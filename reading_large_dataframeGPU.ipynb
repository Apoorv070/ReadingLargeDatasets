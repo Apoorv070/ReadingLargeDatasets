{
  "nbformat": 4,
  "nbformat_minor": 0,
  "metadata": {
    "kernelspec": {
      "display_name": "Python 3",
      "language": "python",
      "name": "python3"
    },
    "language_info": {
      "codemirror_mode": {
        "name": "ipython",
        "version": 3
      },
      "file_extension": ".py",
      "mimetype": "text/x-python",
      "name": "python",
      "nbconvert_exporter": "python",
      "pygments_lexer": "ipython3",
      "version": "3.7.7"
    },
    "colab": {
      "name": "reading_large_dataframeGPU.ipynb",
      "provenance": []
    },
    "accelerator": "GPU"
  },
  "cells": [
    {
      "cell_type": "markdown",
      "metadata": {
        "id": "FsVgpNpWrmKX"
      },
      "source": [
        "## Imp Libraries"
      ]
    },
    {
      "cell_type": "code",
      "metadata": {
        "colab": {
          "base_uri": "https://localhost:8080/"
        },
        "id": "avlwr_4Vm6XK",
        "outputId": "49e54ff8-9e44-4841-901c-8f322303113f"
      },
      "source": [
        "from google.colab import drive\n",
        "drive.mount('/content/drive')"
      ],
      "execution_count": 1,
      "outputs": [
        {
          "output_type": "stream",
          "text": [
            "Mounted at /content/drive\n"
          ],
          "name": "stdout"
        }
      ]
    },
    {
      "cell_type": "code",
      "metadata": {
        "id": "YSRA0x6SrmKX"
      },
      "source": [
        "import numpy as np\n",
        "import time\n",
        "from datetime import date"
      ],
      "execution_count": 1,
      "outputs": []
    },
    {
      "cell_type": "code",
      "metadata": {
        "colab": {
          "base_uri": "https://localhost:8080/"
        },
        "id": "CymCm0lLVken",
        "outputId": "8db6fa97-ed63-4d17-be1d-616d845ffa46"
      },
      "source": [
        "!nvidia-smi"
      ],
      "execution_count": 2,
      "outputs": [
        {
          "output_type": "stream",
          "text": [
            "Sat Dec 19 04:02:14 2020       \n",
            "+-----------------------------------------------------------------------------+\n",
            "| NVIDIA-SMI 455.45.01    Driver Version: 418.67       CUDA Version: 10.1     |\n",
            "|-------------------------------+----------------------+----------------------+\n",
            "| GPU  Name        Persistence-M| Bus-Id        Disp.A | Volatile Uncorr. ECC |\n",
            "| Fan  Temp  Perf  Pwr:Usage/Cap|         Memory-Usage | GPU-Util  Compute M. |\n",
            "|                               |                      |               MIG M. |\n",
            "|===============================+======================+======================|\n",
            "|   0  Tesla T4            Off  | 00000000:00:04.0 Off |                    0 |\n",
            "| N/A   32C    P8     9W /  70W |      0MiB / 15079MiB |      0%      Default |\n",
            "|                               |                      |                 ERR! |\n",
            "+-------------------------------+----------------------+----------------------+\n",
            "                                                                               \n",
            "+-----------------------------------------------------------------------------+\n",
            "| Processes:                                                                  |\n",
            "|  GPU   GI   CI        PID   Type   Process name                  GPU Memory |\n",
            "|        ID   ID                                                   Usage      |\n",
            "|=============================================================================|\n",
            "|  No running processes found                                                 |\n",
            "+-----------------------------------------------------------------------------+\n"
          ],
          "name": "stdout"
        }
      ]
    },
    {
      "cell_type": "markdown",
      "metadata": {
        "id": "ekwucpGuiSdq"
      },
      "source": [
        ""
      ]
    },
    {
      "cell_type": "markdown",
      "metadata": {
        "id": "slWLf9QiidPD"
      },
      "source": [
        "# Dataset"
      ]
    },
    {
      "cell_type": "markdown",
      "metadata": {
        "id": "SCexXSPpikhH"
      },
      "source": [
        "A sales data record of 5000000* 14, with columns Region, Country, Item Type, Sales Channel, Order Priority, Order Date, Order ID, Ship date, units sold, unit price, unit cost, Total Revenue, Total Cost, Total Profit. \n",
        "\n",
        "No NA/ NAN is present in the dataset. \n",
        "\n",
        "The data is taken from http://eforexcel.com/wp/downloads-18-sample-csv-files-data-sets-for-testing-sales/ "
      ]
    },
    {
      "cell_type": "markdown",
      "metadata": {
        "id": "Jw1laIR3rmKY"
      },
      "source": [
        "## Pandas\n",
        "\n",
        "Pandas is probably the most popular method of reading datasets and is also the default on Kaggle. It has a lot of options, flexibility and functions for reading and processing data."
      ]
    },
    {
      "cell_type": "code",
      "metadata": {
        "id": "uPmETfekrmKY"
      },
      "source": [
        "link  = '/content/drive/MyDrive/5m.csv'"
      ],
      "execution_count": 3,
      "outputs": []
    },
    {
      "cell_type": "code",
      "metadata": {
        "colab": {
          "base_uri": "https://localhost:8080/"
        },
        "id": "jlF4_InCrmKY",
        "outputId": "35fa36d6-c0b8-4bbe-dd29-6f7e3b3490d8"
      },
      "source": [
        "import pandas as pd    #Hardware Accelerator: GPU\n",
        "start = time.time()\n",
        "df = pd.read_csv(link)\n",
        "end = time.time() \n",
        "print(end-start)"
      ],
      "execution_count": 4,
      "outputs": [
        {
          "output_type": "stream",
          "text": [
            "8.243667840957642\n"
          ],
          "name": "stdout"
        }
      ]
    },
    {
      "cell_type": "code",
      "metadata": {
        "colab": {
          "base_uri": "https://localhost:8080/"
        },
        "id": "Pth31-gqrmKZ",
        "outputId": "b61ce9db-b115-4628-a274-136ccba7bfd5"
      },
      "source": [
        "df.shape"
      ],
      "execution_count": 5,
      "outputs": [
        {
          "output_type": "execute_result",
          "data": {
            "text/plain": [
              "(5000000, 14)"
            ]
          },
          "metadata": {
            "tags": []
          },
          "execution_count": 5
        }
      ]
    },
    {
      "cell_type": "code",
      "metadata": {
        "colab": {
          "base_uri": "https://localhost:8080/",
          "height": 246
        },
        "id": "-LaQcRYSrmKZ",
        "outputId": "a3e07613-b489-4297-9228-4dfe3cbab6c8"
      },
      "source": [
        "df.head()"
      ],
      "execution_count": 6,
      "outputs": [
        {
          "output_type": "execute_result",
          "data": {
            "text/html": [
              "<div>\n",
              "<style scoped>\n",
              "    .dataframe tbody tr th:only-of-type {\n",
              "        vertical-align: middle;\n",
              "    }\n",
              "\n",
              "    .dataframe tbody tr th {\n",
              "        vertical-align: top;\n",
              "    }\n",
              "\n",
              "    .dataframe thead th {\n",
              "        text-align: right;\n",
              "    }\n",
              "</style>\n",
              "<table border=\"1\" class=\"dataframe\">\n",
              "  <thead>\n",
              "    <tr style=\"text-align: right;\">\n",
              "      <th></th>\n",
              "      <th>Region</th>\n",
              "      <th>Country</th>\n",
              "      <th>Item Type</th>\n",
              "      <th>Sales Channel</th>\n",
              "      <th>Order Priority</th>\n",
              "      <th>Order Date</th>\n",
              "      <th>Order ID</th>\n",
              "      <th>Ship Date</th>\n",
              "      <th>Units Sold</th>\n",
              "      <th>Unit Price</th>\n",
              "      <th>Unit Cost</th>\n",
              "      <th>Total Revenue</th>\n",
              "      <th>Total Cost</th>\n",
              "      <th>Total Profit</th>\n",
              "    </tr>\n",
              "  </thead>\n",
              "  <tbody>\n",
              "    <tr>\n",
              "      <th>0</th>\n",
              "      <td>Australia and Oceania</td>\n",
              "      <td>Palau</td>\n",
              "      <td>Office Supplies</td>\n",
              "      <td>Online</td>\n",
              "      <td>H</td>\n",
              "      <td>3/6/2016</td>\n",
              "      <td>517073523</td>\n",
              "      <td>3/26/2016</td>\n",
              "      <td>2401</td>\n",
              "      <td>651.21</td>\n",
              "      <td>524.96</td>\n",
              "      <td>1563555.21</td>\n",
              "      <td>1260428.96</td>\n",
              "      <td>303126.25</td>\n",
              "    </tr>\n",
              "    <tr>\n",
              "      <th>1</th>\n",
              "      <td>Europe</td>\n",
              "      <td>Poland</td>\n",
              "      <td>Beverages</td>\n",
              "      <td>Online</td>\n",
              "      <td>L</td>\n",
              "      <td>4/18/2010</td>\n",
              "      <td>380507028</td>\n",
              "      <td>5/26/2010</td>\n",
              "      <td>9340</td>\n",
              "      <td>47.45</td>\n",
              "      <td>31.79</td>\n",
              "      <td>443183.00</td>\n",
              "      <td>296918.60</td>\n",
              "      <td>146264.40</td>\n",
              "    </tr>\n",
              "    <tr>\n",
              "      <th>2</th>\n",
              "      <td>North America</td>\n",
              "      <td>Canada</td>\n",
              "      <td>Cereal</td>\n",
              "      <td>Online</td>\n",
              "      <td>M</td>\n",
              "      <td>1/8/2015</td>\n",
              "      <td>504055583</td>\n",
              "      <td>1/31/2015</td>\n",
              "      <td>103</td>\n",
              "      <td>205.70</td>\n",
              "      <td>117.11</td>\n",
              "      <td>21187.10</td>\n",
              "      <td>12062.33</td>\n",
              "      <td>9124.77</td>\n",
              "    </tr>\n",
              "    <tr>\n",
              "      <th>3</th>\n",
              "      <td>Europe</td>\n",
              "      <td>Belarus</td>\n",
              "      <td>Snacks</td>\n",
              "      <td>Online</td>\n",
              "      <td>C</td>\n",
              "      <td>1/19/2014</td>\n",
              "      <td>954955518</td>\n",
              "      <td>2/27/2014</td>\n",
              "      <td>1414</td>\n",
              "      <td>152.58</td>\n",
              "      <td>97.44</td>\n",
              "      <td>215748.12</td>\n",
              "      <td>137780.16</td>\n",
              "      <td>77967.96</td>\n",
              "    </tr>\n",
              "    <tr>\n",
              "      <th>4</th>\n",
              "      <td>Middle East and North Africa</td>\n",
              "      <td>Oman</td>\n",
              "      <td>Cereal</td>\n",
              "      <td>Offline</td>\n",
              "      <td>H</td>\n",
              "      <td>4/26/2019</td>\n",
              "      <td>970755660</td>\n",
              "      <td>6/2/2019</td>\n",
              "      <td>7027</td>\n",
              "      <td>205.70</td>\n",
              "      <td>117.11</td>\n",
              "      <td>1445453.90</td>\n",
              "      <td>822931.97</td>\n",
              "      <td>622521.93</td>\n",
              "    </tr>\n",
              "  </tbody>\n",
              "</table>\n",
              "</div>"
            ],
            "text/plain": [
              "                         Region  Country  ...  Total Cost Total Profit\n",
              "0         Australia and Oceania    Palau  ...  1260428.96    303126.25\n",
              "1                        Europe   Poland  ...   296918.60    146264.40\n",
              "2                 North America   Canada  ...    12062.33      9124.77\n",
              "3                        Europe  Belarus  ...   137780.16     77967.96\n",
              "4  Middle East and North Africa     Oman  ...   822931.97    622521.93\n",
              "\n",
              "[5 rows x 14 columns]"
            ]
          },
          "metadata": {
            "tags": []
          },
          "execution_count": 6
        }
      ]
    },
    {
      "cell_type": "markdown",
      "metadata": {
        "id": "0nC5RWUlrmKa"
      },
      "source": [
        "## Dask\n",
        "Dask provides a framework to scale pandas workflows natively using a parallel processing architecture. For those of you who have used Spark, you will find an uncanny similarity between the two.\n",
        "\n"
      ]
    },
    {
      "cell_type": "code",
      "metadata": {
        "id": "EiECP_HPBCGp",
        "colab": {
          "base_uri": "https://localhost:8080/"
        },
        "outputId": "588f8e57-19e2-432a-fba0-10c13e45bfa6"
      },
      "source": [
        "pip install dask[complete]"
      ],
      "execution_count": 7,
      "outputs": [
        {
          "output_type": "stream",
          "text": [
            "Requirement already satisfied: dask[complete] in /usr/local/lib/python3.6/dist-packages (2.12.0)\n",
            "Collecting partd>=0.3.10; extra == \"complete\"\n",
            "  Downloading https://files.pythonhosted.org/packages/44/e1/68dbe731c9c067655bff1eca5b7d40c20ca4b23fd5ec9f3d17e201a6f36b/partd-1.1.0-py3-none-any.whl\n",
            "Collecting distributed>=2.0; extra == \"complete\"\n",
            "\u001b[?25l  Downloading https://files.pythonhosted.org/packages/b5/12/3c25bb53c9b508e6332b62c33a8806ec7a33c926d8e32e7e53df0b512b84/distributed-2020.12.0-py3-none-any.whl (669kB)\n",
            "\u001b[K     |████████████████████████████████| 675kB 18.4MB/s \n",
            "\u001b[?25hRequirement already satisfied: cloudpickle>=0.2.1; extra == \"complete\" in /usr/local/lib/python3.6/dist-packages (from dask[complete]) (1.3.0)\n",
            "Requirement already satisfied: pandas>=0.23.0; extra == \"complete\" in /usr/local/lib/python3.6/dist-packages (from dask[complete]) (1.1.5)\n",
            "Requirement already satisfied: bokeh>=1.0.0; extra == \"complete\" in /usr/local/lib/python3.6/dist-packages (from dask[complete]) (2.1.1)\n",
            "Collecting fsspec>=0.6.0; extra == \"complete\"\n",
            "\u001b[?25l  Downloading https://files.pythonhosted.org/packages/ec/80/72ac0982cc833945fada4b76c52f0f65435ba4d53bc9317d1c70b5f7e7d5/fsspec-0.8.5-py3-none-any.whl (98kB)\n",
            "\u001b[K     |████████████████████████████████| 102kB 16.1MB/s \n",
            "\u001b[?25hRequirement already satisfied: toolz>=0.7.3; extra == \"complete\" in /usr/local/lib/python3.6/dist-packages (from dask[complete]) (0.11.1)\n",
            "Requirement already satisfied: numpy>=1.13.0; extra == \"complete\" in /usr/local/lib/python3.6/dist-packages (from dask[complete]) (1.19.4)\n",
            "Requirement already satisfied: PyYaml; extra == \"complete\" in /usr/local/lib/python3.6/dist-packages (from dask[complete]) (3.13)\n",
            "Collecting locket\n",
            "  Downloading https://files.pythonhosted.org/packages/d0/22/3c0f97614e0be8386542facb3a7dcfc2584f7b83608c02333bced641281c/locket-0.2.0.tar.gz\n",
            "Requirement already satisfied: sortedcontainers!=2.0.0,!=2.0.1 in /usr/local/lib/python3.6/dist-packages (from distributed>=2.0; extra == \"complete\"->dask[complete]) (2.3.0)\n",
            "Requirement already satisfied: zict>=0.1.3 in /usr/local/lib/python3.6/dist-packages (from distributed>=2.0; extra == \"complete\"->dask[complete]) (2.0.0)\n",
            "Requirement already satisfied: tornado>=5; python_version < \"3.8\" in /usr/local/lib/python3.6/dist-packages (from distributed>=2.0; extra == \"complete\"->dask[complete]) (5.1.1)\n",
            "Requirement already satisfied: msgpack>=0.6.0 in /usr/local/lib/python3.6/dist-packages (from distributed>=2.0; extra == \"complete\"->dask[complete]) (1.0.1)\n",
            "Collecting contextvars; python_version < \"3.7\"\n",
            "  Downloading https://files.pythonhosted.org/packages/83/96/55b82d9f13763be9d672622e1b8106c85acb83edd7cc2fa5bc67cd9877e9/contextvars-2.4.tar.gz\n",
            "Requirement already satisfied: click>=6.6 in /usr/local/lib/python3.6/dist-packages (from distributed>=2.0; extra == \"complete\"->dask[complete]) (7.1.2)\n",
            "Requirement already satisfied: psutil>=5.0 in /usr/local/lib/python3.6/dist-packages (from distributed>=2.0; extra == \"complete\"->dask[complete]) (5.4.8)\n",
            "Requirement already satisfied: tblib>=1.6.0 in /usr/local/lib/python3.6/dist-packages (from distributed>=2.0; extra == \"complete\"->dask[complete]) (1.7.0)\n",
            "Requirement already satisfied: setuptools in /usr/local/lib/python3.6/dist-packages (from distributed>=2.0; extra == \"complete\"->dask[complete]) (50.3.2)\n",
            "Requirement already satisfied: python-dateutil>=2.7.3 in /usr/local/lib/python3.6/dist-packages (from pandas>=0.23.0; extra == \"complete\"->dask[complete]) (2.8.1)\n",
            "Requirement already satisfied: pytz>=2017.2 in /usr/local/lib/python3.6/dist-packages (from pandas>=0.23.0; extra == \"complete\"->dask[complete]) (2018.9)\n",
            "Requirement already satisfied: packaging>=16.8 in /usr/local/lib/python3.6/dist-packages (from bokeh>=1.0.0; extra == \"complete\"->dask[complete]) (20.8)\n",
            "Requirement already satisfied: pillow>=4.0 in /usr/local/lib/python3.6/dist-packages (from bokeh>=1.0.0; extra == \"complete\"->dask[complete]) (7.0.0)\n",
            "Requirement already satisfied: Jinja2>=2.7 in /usr/local/lib/python3.6/dist-packages (from bokeh>=1.0.0; extra == \"complete\"->dask[complete]) (2.11.2)\n",
            "Requirement already satisfied: typing-extensions>=3.7.4 in /usr/local/lib/python3.6/dist-packages (from bokeh>=1.0.0; extra == \"complete\"->dask[complete]) (3.7.4.3)\n",
            "Requirement already satisfied: heapdict in /usr/local/lib/python3.6/dist-packages (from zict>=0.1.3->distributed>=2.0; extra == \"complete\"->dask[complete]) (1.0.1)\n",
            "Collecting immutables>=0.9\n",
            "\u001b[?25l  Downloading https://files.pythonhosted.org/packages/99/e0/ea6fd4697120327d26773b5a84853f897a68e33d3f9376b00a8ff96e4f63/immutables-0.14-cp36-cp36m-manylinux1_x86_64.whl (98kB)\n",
            "\u001b[K     |████████████████████████████████| 102kB 15.5MB/s \n",
            "\u001b[?25hRequirement already satisfied: six>=1.5 in /usr/local/lib/python3.6/dist-packages (from python-dateutil>=2.7.3->pandas>=0.23.0; extra == \"complete\"->dask[complete]) (1.15.0)\n",
            "Requirement already satisfied: pyparsing>=2.0.2 in /usr/local/lib/python3.6/dist-packages (from packaging>=16.8->bokeh>=1.0.0; extra == \"complete\"->dask[complete]) (2.4.7)\n",
            "Requirement already satisfied: MarkupSafe>=0.23 in /usr/local/lib/python3.6/dist-packages (from Jinja2>=2.7->bokeh>=1.0.0; extra == \"complete\"->dask[complete]) (1.1.1)\n",
            "Building wheels for collected packages: locket, contextvars\n",
            "  Building wheel for locket (setup.py) ... \u001b[?25l\u001b[?25hdone\n",
            "  Created wheel for locket: filename=locket-0.2.0-cp36-none-any.whl size=4042 sha256=4af15d9cae5f9182c10f8c097a0070dcd2393c33984dba7d9fa0cfdac0599fea\n",
            "  Stored in directory: /root/.cache/pip/wheels/26/1e/e8/4fa236ec931b1a0cdd61578e20d4934d7bf188858723b84698\n",
            "  Building wheel for contextvars (setup.py) ... \u001b[?25l\u001b[?25hdone\n",
            "  Created wheel for contextvars: filename=contextvars-2.4-cp36-none-any.whl size=7667 sha256=094c2b0663c3e2088264e99993b17575b48a8711f0dceda308cf515471d5be65\n",
            "  Stored in directory: /root/.cache/pip/wheels/a5/7d/68/1ebae2668bda2228686e3c1cf16f2c2384cea6e9334ad5f6de\n",
            "Successfully built locket contextvars\n",
            "\u001b[31mERROR: distributed 2020.12.0 has requirement cloudpickle>=1.5.0, but you'll have cloudpickle 1.3.0 which is incompatible.\u001b[0m\n",
            "\u001b[31mERROR: distributed 2020.12.0 has requirement dask>=2020.12.0, but you'll have dask 2.12.0 which is incompatible.\u001b[0m\n",
            "Installing collected packages: locket, partd, immutables, contextvars, distributed, fsspec\n",
            "  Found existing installation: distributed 1.25.3\n",
            "    Uninstalling distributed-1.25.3:\n",
            "      Successfully uninstalled distributed-1.25.3\n",
            "Successfully installed contextvars-2.4 distributed-2020.12.0 fsspec-0.8.5 immutables-0.14 locket-0.2.0 partd-1.1.0\n"
          ],
          "name": "stdout"
        }
      ]
    },
    {
      "cell_type": "code",
      "metadata": {
        "colab": {
          "base_uri": "https://localhost:8080/"
        },
        "id": "fgBazSrErmKa",
        "outputId": "6803b978-6c36-4ee1-fe0c-c1da7e6da9bf"
      },
      "source": [
        "import dask.dataframe as dd   #Hardware Accelerator: GPU\n",
        "start = time.time()\n",
        "df = dd.read_csv(link).compute()\n",
        "end = time.time()\n",
        "print(end-start)"
      ],
      "execution_count": 8,
      "outputs": [
        {
          "output_type": "stream",
          "text": [
            "8.111949682235718\n"
          ],
          "name": "stdout"
        }
      ]
    },
    {
      "cell_type": "code",
      "metadata": {
        "colab": {
          "base_uri": "https://localhost:8080/",
          "height": 246
        },
        "id": "qidejp1ZrmKa",
        "outputId": "427cb115-d5de-48dd-c84e-81238edc9774"
      },
      "source": [
        "df.head(5)"
      ],
      "execution_count": 9,
      "outputs": [
        {
          "output_type": "execute_result",
          "data": {
            "text/html": [
              "<div>\n",
              "<style scoped>\n",
              "    .dataframe tbody tr th:only-of-type {\n",
              "        vertical-align: middle;\n",
              "    }\n",
              "\n",
              "    .dataframe tbody tr th {\n",
              "        vertical-align: top;\n",
              "    }\n",
              "\n",
              "    .dataframe thead th {\n",
              "        text-align: right;\n",
              "    }\n",
              "</style>\n",
              "<table border=\"1\" class=\"dataframe\">\n",
              "  <thead>\n",
              "    <tr style=\"text-align: right;\">\n",
              "      <th></th>\n",
              "      <th>Region</th>\n",
              "      <th>Country</th>\n",
              "      <th>Item Type</th>\n",
              "      <th>Sales Channel</th>\n",
              "      <th>Order Priority</th>\n",
              "      <th>Order Date</th>\n",
              "      <th>Order ID</th>\n",
              "      <th>Ship Date</th>\n",
              "      <th>Units Sold</th>\n",
              "      <th>Unit Price</th>\n",
              "      <th>Unit Cost</th>\n",
              "      <th>Total Revenue</th>\n",
              "      <th>Total Cost</th>\n",
              "      <th>Total Profit</th>\n",
              "    </tr>\n",
              "  </thead>\n",
              "  <tbody>\n",
              "    <tr>\n",
              "      <th>0</th>\n",
              "      <td>Australia and Oceania</td>\n",
              "      <td>Palau</td>\n",
              "      <td>Office Supplies</td>\n",
              "      <td>Online</td>\n",
              "      <td>H</td>\n",
              "      <td>3/6/2016</td>\n",
              "      <td>517073523</td>\n",
              "      <td>3/26/2016</td>\n",
              "      <td>2401</td>\n",
              "      <td>651.21</td>\n",
              "      <td>524.96</td>\n",
              "      <td>1563555.21</td>\n",
              "      <td>1260428.96</td>\n",
              "      <td>303126.25</td>\n",
              "    </tr>\n",
              "    <tr>\n",
              "      <th>1</th>\n",
              "      <td>Europe</td>\n",
              "      <td>Poland</td>\n",
              "      <td>Beverages</td>\n",
              "      <td>Online</td>\n",
              "      <td>L</td>\n",
              "      <td>4/18/2010</td>\n",
              "      <td>380507028</td>\n",
              "      <td>5/26/2010</td>\n",
              "      <td>9340</td>\n",
              "      <td>47.45</td>\n",
              "      <td>31.79</td>\n",
              "      <td>443183.00</td>\n",
              "      <td>296918.60</td>\n",
              "      <td>146264.40</td>\n",
              "    </tr>\n",
              "    <tr>\n",
              "      <th>2</th>\n",
              "      <td>North America</td>\n",
              "      <td>Canada</td>\n",
              "      <td>Cereal</td>\n",
              "      <td>Online</td>\n",
              "      <td>M</td>\n",
              "      <td>1/8/2015</td>\n",
              "      <td>504055583</td>\n",
              "      <td>1/31/2015</td>\n",
              "      <td>103</td>\n",
              "      <td>205.70</td>\n",
              "      <td>117.11</td>\n",
              "      <td>21187.10</td>\n",
              "      <td>12062.33</td>\n",
              "      <td>9124.77</td>\n",
              "    </tr>\n",
              "    <tr>\n",
              "      <th>3</th>\n",
              "      <td>Europe</td>\n",
              "      <td>Belarus</td>\n",
              "      <td>Snacks</td>\n",
              "      <td>Online</td>\n",
              "      <td>C</td>\n",
              "      <td>1/19/2014</td>\n",
              "      <td>954955518</td>\n",
              "      <td>2/27/2014</td>\n",
              "      <td>1414</td>\n",
              "      <td>152.58</td>\n",
              "      <td>97.44</td>\n",
              "      <td>215748.12</td>\n",
              "      <td>137780.16</td>\n",
              "      <td>77967.96</td>\n",
              "    </tr>\n",
              "    <tr>\n",
              "      <th>4</th>\n",
              "      <td>Middle East and North Africa</td>\n",
              "      <td>Oman</td>\n",
              "      <td>Cereal</td>\n",
              "      <td>Offline</td>\n",
              "      <td>H</td>\n",
              "      <td>4/26/2019</td>\n",
              "      <td>970755660</td>\n",
              "      <td>6/2/2019</td>\n",
              "      <td>7027</td>\n",
              "      <td>205.70</td>\n",
              "      <td>117.11</td>\n",
              "      <td>1445453.90</td>\n",
              "      <td>822931.97</td>\n",
              "      <td>622521.93</td>\n",
              "    </tr>\n",
              "  </tbody>\n",
              "</table>\n",
              "</div>"
            ],
            "text/plain": [
              "                         Region  Country  ...  Total Cost Total Profit\n",
              "0         Australia and Oceania    Palau  ...  1260428.96    303126.25\n",
              "1                        Europe   Poland  ...   296918.60    146264.40\n",
              "2                 North America   Canada  ...    12062.33      9124.77\n",
              "3                        Europe  Belarus  ...   137780.16     77967.96\n",
              "4  Middle East and North Africa     Oman  ...   822931.97    622521.93\n",
              "\n",
              "[5 rows x 14 columns]"
            ]
          },
          "metadata": {
            "tags": []
          },
          "execution_count": 9
        }
      ]
    },
    {
      "cell_type": "markdown",
      "metadata": {
        "id": "LK6Ml6qlrmKa"
      },
      "source": [
        "## Datatable\n",
        "Datatable (heavily inspired by R's data.table) can read large datasets fairly quickly and is often faster than pandas. It is specifically meant for data processing of tabular datasets with emphasis on speed and support for large sized data."
      ]
    },
    {
      "cell_type": "code",
      "metadata": {
        "id": "69TA9ghUBLY7",
        "colab": {
          "base_uri": "https://localhost:8080/"
        },
        "outputId": "6f231440-a10c-45bd-ff4b-5fe442dcfb57"
      },
      "source": [
        "pip install datatable"
      ],
      "execution_count": 10,
      "outputs": [
        {
          "output_type": "stream",
          "text": [
            "Collecting datatable\n",
            "\u001b[?25l  Downloading https://files.pythonhosted.org/packages/80/cb/21810c43b687a19d194c372192049f535fba28c55ce76d37e7e407159c52/datatable-0.11.1-cp36-cp36m-manylinux2010_x86_64.whl (83.7MB)\n",
            "\u001b[K     |████████████████████████████████| 83.7MB 60kB/s \n",
            "\u001b[?25hInstalling collected packages: datatable\n",
            "Successfully installed datatable-0.11.1\n"
          ],
          "name": "stdout"
        }
      ]
    },
    {
      "cell_type": "code",
      "metadata": {
        "colab": {
          "base_uri": "https://localhost:8080/"
        },
        "id": "X_o_xihqrmKa",
        "outputId": "9a79290d-e596-4c46-bf65-563401cc3349"
      },
      "source": [
        "import datatable as dt   #Hardware Accelerator: GPU\n",
        "start = time.time()\n",
        "df = dt.fread(link)\n",
        "end = time.time()\n",
        "print(end-start)"
      ],
      "execution_count": 11,
      "outputs": [
        {
          "output_type": "stream",
          "text": [
            "3.7144243717193604\n"
          ],
          "name": "stdout"
        }
      ]
    },
    {
      "cell_type": "code",
      "metadata": {
        "colab": {
          "base_uri": "https://localhost:8080/",
          "height": 326
        },
        "id": "qUkxIJWIpkxC",
        "outputId": "1c5ef55b-cb84-44d1-f510-5237bee082cf"
      },
      "source": [
        "df.head(5)"
      ],
      "execution_count": 12,
      "outputs": [
        {
          "output_type": "stream",
          "text": [
            "   | Region                        Country  Item Type        Sales Channel  Order Priority  Order Date   Order ID  …\n",
            "-- + ----------------------------  -------  ---------------  -------------  --------------  ----------  ---------   \n",
            " 0 | Australia and Oceania         Palau    Office Supplies  Online         H               3/6/2016    517073523  …\n",
            " 1 | Europe                        Poland   Beverages        Online         L               4/18/2010   380507028  …\n",
            " 2 | North America                 Canada   Cereal           Online         M               1/8/2015    504055583  …\n",
            " 3 | Europe                        Belarus  Snacks           Online         C               1/19/2014   954955518  …\n",
            " 4 | Middle East and North Africa  Oman     Cereal           Offline        H               4/26/2019   970755660  …\n",
            "\n",
            "[5 rows x 14 columns]\n"
          ],
          "name": "stdout"
        },
        {
          "output_type": "execute_result",
          "data": {
            "text/html": [
              "<div class='datatable'>\n",
              "  <table class='frame'>\n",
              "  <thead>\n",
              "    <tr class='colnames'><td class='row_index'></td><th>Region</th><th>Country</th><th>Item Type</th><th>Sales Channel</th><th>Order Priority</th><th>Order Date</th><th>Order ID</th><th>Ship Date</th><th>Units Sold</th><th>Unit Price</th><th>Unit Cost</th><th>Total Revenue</th><th>Total Cost</th><th>Total Profit</th></tr>\n",
              "    <tr class='coltypes'><td class='row_index'></td><td class='str' title='str32'>&#x25AA;&#x25AA;&#x25AA;&#x25AA;</td><td class='str' title='str32'>&#x25AA;&#x25AA;&#x25AA;&#x25AA;</td><td class='str' title='str32'>&#x25AA;&#x25AA;&#x25AA;&#x25AA;</td><td class='str' title='str32'>&#x25AA;&#x25AA;&#x25AA;&#x25AA;</td><td class='str' title='str32'>&#x25AA;&#x25AA;&#x25AA;&#x25AA;</td><td class='str' title='str32'>&#x25AA;&#x25AA;&#x25AA;&#x25AA;</td><td class='int' title='int32'>&#x25AA;&#x25AA;&#x25AA;&#x25AA;</td><td class='str' title='str32'>&#x25AA;&#x25AA;&#x25AA;&#x25AA;</td><td class='int' title='int32'>&#x25AA;&#x25AA;&#x25AA;&#x25AA;</td><td class='float' title='float64'>&#x25AA;&#x25AA;&#x25AA;&#x25AA;&#x25AA;&#x25AA;&#x25AA;&#x25AA;</td><td class='float' title='float64'>&#x25AA;&#x25AA;&#x25AA;&#x25AA;&#x25AA;&#x25AA;&#x25AA;&#x25AA;</td><td class='float' title='float64'>&#x25AA;&#x25AA;&#x25AA;&#x25AA;&#x25AA;&#x25AA;&#x25AA;&#x25AA;</td><td class='float' title='float64'>&#x25AA;&#x25AA;&#x25AA;&#x25AA;&#x25AA;&#x25AA;&#x25AA;&#x25AA;</td><td class='float' title='float64'>&#x25AA;&#x25AA;&#x25AA;&#x25AA;&#x25AA;&#x25AA;&#x25AA;&#x25AA;</td></tr>\n",
              "  </thead>\n",
              "  <tbody>\n",
              "    <tr><td class='row_index'>0</td><td>Australia and Oceania</td><td>Palau</td><td>Office Supplies</td><td>Online</td><td>H</td><td>3/6/2016</td><td>517073523</td><td>3/26/2016</td><td>2401</td><td>651.21</td><td>524.96</td><td>1.56356e+06</td><td>1.26043e+06</td><td>303126</td></tr>\n",
              "    <tr><td class='row_index'>1</td><td>Europe</td><td>Poland</td><td>Beverages</td><td>Online</td><td>L</td><td>4/18/2010</td><td>380507028</td><td>5/26/2010</td><td>9340</td><td>47.45</td><td>31.79</td><td>443183</td><td>296919</td><td>146264</td></tr>\n",
              "    <tr><td class='row_index'>2</td><td>North America</td><td>Canada</td><td>Cereal</td><td>Online</td><td>M</td><td>1/8/2015</td><td>504055583</td><td>1/31/2015</td><td>103</td><td>205.7</td><td>117.11</td><td>21187.1</td><td>12062.3</td><td>9124.77</td></tr>\n",
              "    <tr><td class='row_index'>3</td><td>Europe</td><td>Belarus</td><td>Snacks</td><td>Online</td><td>C</td><td>1/19/2014</td><td>954955518</td><td>2/27/2014</td><td>1414</td><td>152.58</td><td>97.44</td><td>215748</td><td>137780</td><td>77968</td></tr>\n",
              "    <tr><td class='row_index'>4</td><td>Middle East and North Africa</td><td>Oman</td><td>Cereal</td><td>Offline</td><td>H</td><td>4/26/2019</td><td>970755660</td><td>6/2/2019</td><td>7027</td><td>205.7</td><td>117.11</td><td>1.44545e+06</td><td>822932</td><td>622522</td></tr>\n",
              "  </tbody>\n",
              "  </table>\n",
              "  <div class='footer'>\n",
              "    <div class='frame_dimensions'>5 rows &times; 14 columns</div>\n",
              "  </div>\n",
              "</div>\n"
            ],
            "text/plain": [
              ""
            ]
          },
          "metadata": {
            "tags": []
          },
          "execution_count": 12
        }
      ]
    },
    {
      "cell_type": "code",
      "metadata": {
        "colab": {
          "base_uri": "https://localhost:8080/"
        },
        "id": "PgIyxnPermKa",
        "outputId": "75bb6de8-a0d1-45d8-d122-53275713a80e"
      },
      "source": [
        "df.shape"
      ],
      "execution_count": 13,
      "outputs": [
        {
          "output_type": "execute_result",
          "data": {
            "text/plain": [
              "(5000000, 14)"
            ]
          },
          "metadata": {
            "tags": []
          },
          "execution_count": 13
        }
      ]
    },
    {
      "cell_type": "markdown",
      "metadata": {
        "id": "rMbsl3yTrmKa"
      },
      "source": [
        "Format: feather\n",
        "It is common to store data in feather (binary) format specifically for pandas. It significantly improves reading speed of datasets."
      ]
    },
    {
      "cell_type": "markdown",
      "metadata": {
        "id": "C72VSvfVrmKa"
      },
      "source": [
        "## Modin"
      ]
    },
    {
      "cell_type": "markdown",
      "metadata": {
        "id": "B1HBaOESeBan"
      },
      "source": [
        "A library which helps pandas to read big files and boosts its speed. All syntax is same as pandas."
      ]
    },
    {
      "cell_type": "code",
      "metadata": {
        "id": "2L7LwIqAVyCe",
        "colab": {
          "base_uri": "https://localhost:8080/",
          "height": 760
        },
        "outputId": "d433193d-f0a7-4927-924b-b2811679f3ac"
      },
      "source": [
        "pip install modin[dask]"
      ],
      "execution_count": 14,
      "outputs": [
        {
          "output_type": "stream",
          "text": [
            "Collecting modin[dask]\n",
            "\u001b[?25l  Downloading https://files.pythonhosted.org/packages/ab/a9/ead212fa94de8f14459e22b0604df9c84ff704e986b58e70396ba47668f2/modin-0.8.2-py3-none-manylinux1_x86_64.whl (533kB)\n",
            "\r\u001b[K     |▋                               | 10kB 20.7MB/s eta 0:00:01\r\u001b[K     |█▎                              | 20kB 27.4MB/s eta 0:00:01\r\u001b[K     |█▉                              | 30kB 32.4MB/s eta 0:00:01\r\u001b[K     |██▌                             | 40kB 32.4MB/s eta 0:00:01\r\u001b[K     |███                             | 51kB 33.5MB/s eta 0:00:01\r\u001b[K     |███▊                            | 61kB 29.3MB/s eta 0:00:01\r\u001b[K     |████▎                           | 71kB 25.5MB/s eta 0:00:01\r\u001b[K     |█████                           | 81kB 26.0MB/s eta 0:00:01\r\u001b[K     |█████▌                          | 92kB 23.1MB/s eta 0:00:01\r\u001b[K     |██████▏                         | 102kB 23.0MB/s eta 0:00:01\r\u001b[K     |██████▊                         | 112kB 23.0MB/s eta 0:00:01\r\u001b[K     |███████▍                        | 122kB 23.0MB/s eta 0:00:01\r\u001b[K     |████████                        | 133kB 23.0MB/s eta 0:00:01\r\u001b[K     |████████▋                       | 143kB 23.0MB/s eta 0:00:01\r\u001b[K     |█████████▏                      | 153kB 23.0MB/s eta 0:00:01\r\u001b[K     |█████████▉                      | 163kB 23.0MB/s eta 0:00:01\r\u001b[K     |██████████▍                     | 174kB 23.0MB/s eta 0:00:01\r\u001b[K     |███████████                     | 184kB 23.0MB/s eta 0:00:01\r\u001b[K     |███████████▊                    | 194kB 23.0MB/s eta 0:00:01\r\u001b[K     |████████████▎                   | 204kB 23.0MB/s eta 0:00:01\r\u001b[K     |█████████████                   | 215kB 23.0MB/s eta 0:00:01\r\u001b[K     |█████████████▌                  | 225kB 23.0MB/s eta 0:00:01\r\u001b[K     |██████████████▏                 | 235kB 23.0MB/s eta 0:00:01\r\u001b[K     |██████████████▊                 | 245kB 23.0MB/s eta 0:00:01\r\u001b[K     |███████████████▍                | 256kB 23.0MB/s eta 0:00:01\r\u001b[K     |████████████████                | 266kB 23.0MB/s eta 0:00:01\r\u001b[K     |████████████████▋               | 276kB 23.0MB/s eta 0:00:01\r\u001b[K     |█████████████████▏              | 286kB 23.0MB/s eta 0:00:01\r\u001b[K     |█████████████████▉              | 296kB 23.0MB/s eta 0:00:01\r\u001b[K     |██████████████████▍             | 307kB 23.0MB/s eta 0:00:01\r\u001b[K     |███████████████████             | 317kB 23.0MB/s eta 0:00:01\r\u001b[K     |███████████████████▋            | 327kB 23.0MB/s eta 0:00:01\r\u001b[K     |████████████████████▎           | 337kB 23.0MB/s eta 0:00:01\r\u001b[K     |████████████████████▉           | 348kB 23.0MB/s eta 0:00:01\r\u001b[K     |█████████████████████▌          | 358kB 23.0MB/s eta 0:00:01\r\u001b[K     |██████████████████████          | 368kB 23.0MB/s eta 0:00:01\r\u001b[K     |██████████████████████▊         | 378kB 23.0MB/s eta 0:00:01\r\u001b[K     |███████████████████████▍        | 389kB 23.0MB/s eta 0:00:01\r\u001b[K     |████████████████████████        | 399kB 23.0MB/s eta 0:00:01\r\u001b[K     |████████████████████████▋       | 409kB 23.0MB/s eta 0:00:01\r\u001b[K     |█████████████████████████▏      | 419kB 23.0MB/s eta 0:00:01\r\u001b[K     |█████████████████████████▉      | 430kB 23.0MB/s eta 0:00:01\r\u001b[K     |██████████████████████████▍     | 440kB 23.0MB/s eta 0:00:01\r\u001b[K     |███████████████████████████     | 450kB 23.0MB/s eta 0:00:01\r\u001b[K     |███████████████████████████▋    | 460kB 23.0MB/s eta 0:00:01\r\u001b[K     |████████████████████████████▎   | 471kB 23.0MB/s eta 0:00:01\r\u001b[K     |████████████████████████████▉   | 481kB 23.0MB/s eta 0:00:01\r\u001b[K     |█████████████████████████████▌  | 491kB 23.0MB/s eta 0:00:01\r\u001b[K     |██████████████████████████████  | 501kB 23.0MB/s eta 0:00:01\r\u001b[K     |██████████████████████████████▊ | 512kB 23.0MB/s eta 0:00:01\r\u001b[K     |███████████████████████████████▎| 522kB 23.0MB/s eta 0:00:01\r\u001b[K     |████████████████████████████████| 532kB 23.0MB/s eta 0:00:01\r\u001b[K     |████████████████████████████████| 542kB 23.0MB/s \n",
            "\u001b[?25hRequirement already satisfied: packaging in /usr/local/lib/python3.6/dist-packages (from modin[dask]) (20.8)\n",
            "Collecting pandas==1.1.4\n",
            "\u001b[?25l  Downloading https://files.pythonhosted.org/packages/4d/51/bafcff417cd857bc6684336320863b5e5af280530213ef8f534b6042cfe6/pandas-1.1.4-cp36-cp36m-manylinux1_x86_64.whl (9.5MB)\n",
            "\u001b[K     |████████████████████████████████| 9.5MB 49.9MB/s \n",
            "\u001b[?25hCollecting distributed<=2.19.0,>=2.12.0; extra == \"dask\"\n",
            "\u001b[?25l  Downloading https://files.pythonhosted.org/packages/ed/5b/c489f407e1b48981c6c17b1e3458910882430f9fc4576b4bf9efef9140c6/distributed-2.19.0-py3-none-any.whl (643kB)\n",
            "\u001b[K     |████████████████████████████████| 645kB 55.1MB/s \n",
            "\u001b[?25hRequirement already satisfied: dask<=2.19.0,>=2.12.0; extra == \"dask\" in /usr/local/lib/python3.6/dist-packages (from modin[dask]) (2.12.0)\n",
            "Requirement already satisfied: pyparsing>=2.0.2 in /usr/local/lib/python3.6/dist-packages (from packaging->modin[dask]) (2.4.7)\n",
            "Requirement already satisfied: numpy>=1.15.4 in /usr/local/lib/python3.6/dist-packages (from pandas==1.1.4->modin[dask]) (1.19.4)\n",
            "Requirement already satisfied: pytz>=2017.2 in /usr/local/lib/python3.6/dist-packages (from pandas==1.1.4->modin[dask]) (2018.9)\n",
            "Requirement already satisfied: python-dateutil>=2.7.3 in /usr/local/lib/python3.6/dist-packages (from pandas==1.1.4->modin[dask]) (2.8.1)\n",
            "Requirement already satisfied: contextvars; python_version < \"3.7\" in /usr/local/lib/python3.6/dist-packages (from distributed<=2.19.0,>=2.12.0; extra == \"dask\"->modin[dask]) (2.4)\n",
            "Requirement already satisfied: psutil>=5.0 in /usr/local/lib/python3.6/dist-packages (from distributed<=2.19.0,>=2.12.0; extra == \"dask\"->modin[dask]) (5.4.8)\n",
            "Requirement already satisfied: msgpack>=0.6.0 in /usr/local/lib/python3.6/dist-packages (from distributed<=2.19.0,>=2.12.0; extra == \"dask\"->modin[dask]) (1.0.1)\n",
            "Requirement already satisfied: click>=6.6 in /usr/local/lib/python3.6/dist-packages (from distributed<=2.19.0,>=2.12.0; extra == \"dask\"->modin[dask]) (7.1.2)\n",
            "Requirement already satisfied: pyyaml in /usr/local/lib/python3.6/dist-packages (from distributed<=2.19.0,>=2.12.0; extra == \"dask\"->modin[dask]) (3.13)\n",
            "Requirement already satisfied: setuptools in /usr/local/lib/python3.6/dist-packages (from distributed<=2.19.0,>=2.12.0; extra == \"dask\"->modin[dask]) (50.3.2)\n",
            "Requirement already satisfied: tblib>=1.6.0 in /usr/local/lib/python3.6/dist-packages (from distributed<=2.19.0,>=2.12.0; extra == \"dask\"->modin[dask]) (1.7.0)\n",
            "Requirement already satisfied: cloudpickle>=1.3.0 in /usr/local/lib/python3.6/dist-packages (from distributed<=2.19.0,>=2.12.0; extra == \"dask\"->modin[dask]) (1.3.0)\n",
            "Requirement already satisfied: zict>=0.1.3 in /usr/local/lib/python3.6/dist-packages (from distributed<=2.19.0,>=2.12.0; extra == \"dask\"->modin[dask]) (2.0.0)\n",
            "Requirement already satisfied: tornado>=5; python_version < \"3.8\" in /usr/local/lib/python3.6/dist-packages (from distributed<=2.19.0,>=2.12.0; extra == \"dask\"->modin[dask]) (5.1.1)\n",
            "Requirement already satisfied: sortedcontainers!=2.0.0,!=2.0.1 in /usr/local/lib/python3.6/dist-packages (from distributed<=2.19.0,>=2.12.0; extra == \"dask\"->modin[dask]) (2.3.0)\n",
            "Requirement already satisfied: toolz>=0.8.2 in /usr/local/lib/python3.6/dist-packages (from distributed<=2.19.0,>=2.12.0; extra == \"dask\"->modin[dask]) (0.11.1)\n",
            "Requirement already satisfied: six>=1.5 in /usr/local/lib/python3.6/dist-packages (from python-dateutil>=2.7.3->pandas==1.1.4->modin[dask]) (1.15.0)\n",
            "Requirement already satisfied: immutables>=0.9 in /usr/local/lib/python3.6/dist-packages (from contextvars; python_version < \"3.7\"->distributed<=2.19.0,>=2.12.0; extra == \"dask\"->modin[dask]) (0.14)\n",
            "Requirement already satisfied: heapdict in /usr/local/lib/python3.6/dist-packages (from zict>=0.1.3->distributed<=2.19.0,>=2.12.0; extra == \"dask\"->modin[dask]) (1.0.1)\n",
            "Installing collected packages: pandas, distributed, modin\n",
            "  Found existing installation: pandas 1.1.5\n",
            "    Uninstalling pandas-1.1.5:\n",
            "      Successfully uninstalled pandas-1.1.5\n",
            "  Found existing installation: distributed 2020.12.0\n",
            "    Uninstalling distributed-2020.12.0:\n",
            "      Successfully uninstalled distributed-2020.12.0\n",
            "Successfully installed distributed-2.19.0 modin-0.8.2 pandas-1.1.4\n"
          ],
          "name": "stdout"
        },
        {
          "output_type": "display_data",
          "data": {
            "application/vnd.colab-display-data+json": {
              "pip_warning": {
                "packages": [
                  "pandas"
                ]
              }
            }
          },
          "metadata": {
            "tags": []
          }
        }
      ]
    },
    {
      "cell_type": "code",
      "metadata": {
        "colab": {
          "base_uri": "https://localhost:8080/"
        },
        "id": "h2566YAVrmKa",
        "outputId": "9309077c-45f3-482d-83e0-5a643ce22d92"
      },
      "source": [
        "import modin.pandas as mpd    #Hardware Accelerator: GPU\n",
        "start = time.time()\n",
        "df = mpd.read_csv(link)\n",
        "end = time.time()\n",
        "print(end-start)"
      ],
      "execution_count": 15,
      "outputs": [
        {
          "output_type": "stream",
          "text": [
            "UserWarning: The pandas version installed 1.1.5 does not match the supported pandas version in Modin 1.1.4. This may cause undesired side effects!\n",
            "UserWarning: The Dask Engine for Modin is experimental.\n"
          ],
          "name": "stderr"
        },
        {
          "output_type": "stream",
          "text": [
            "10.064692258834839\n"
          ],
          "name": "stdout"
        }
      ]
    },
    {
      "cell_type": "code",
      "metadata": {
        "colab": {
          "base_uri": "https://localhost:8080/",
          "height": 246
        },
        "id": "IFizdYLIpSMi",
        "outputId": "e171ede3-e156-4311-fd7e-f314542e54d7"
      },
      "source": [
        "df.head()"
      ],
      "execution_count": 16,
      "outputs": [
        {
          "output_type": "execute_result",
          "data": {
            "text/html": [
              "<div>\n",
              "<style scoped>\n",
              "    .dataframe tbody tr th:only-of-type {\n",
              "        vertical-align: middle;\n",
              "    }\n",
              "\n",
              "    .dataframe tbody tr th {\n",
              "        vertical-align: top;\n",
              "    }\n",
              "\n",
              "    .dataframe thead th {\n",
              "        text-align: right;\n",
              "    }\n",
              "</style>\n",
              "<table border=\"1\" class=\"dataframe\">\n",
              "  <thead>\n",
              "    <tr style=\"text-align: right;\">\n",
              "      <th></th>\n",
              "      <th>Region</th>\n",
              "      <th>Country</th>\n",
              "      <th>Item Type</th>\n",
              "      <th>Sales Channel</th>\n",
              "      <th>Order Priority</th>\n",
              "      <th>Order Date</th>\n",
              "      <th>Order ID</th>\n",
              "      <th>Ship Date</th>\n",
              "      <th>Units Sold</th>\n",
              "      <th>Unit Price</th>\n",
              "      <th>Unit Cost</th>\n",
              "      <th>Total Revenue</th>\n",
              "      <th>Total Cost</th>\n",
              "      <th>Total Profit</th>\n",
              "    </tr>\n",
              "  </thead>\n",
              "  <tbody>\n",
              "    <tr>\n",
              "      <th>0</th>\n",
              "      <td>Australia and Oceania</td>\n",
              "      <td>Palau</td>\n",
              "      <td>Office Supplies</td>\n",
              "      <td>Online</td>\n",
              "      <td>H</td>\n",
              "      <td>3/6/2016</td>\n",
              "      <td>517073523</td>\n",
              "      <td>3/26/2016</td>\n",
              "      <td>2401</td>\n",
              "      <td>651.21</td>\n",
              "      <td>524.96</td>\n",
              "      <td>1563555.21</td>\n",
              "      <td>1260428.96</td>\n",
              "      <td>303126.25</td>\n",
              "    </tr>\n",
              "    <tr>\n",
              "      <th>1</th>\n",
              "      <td>Europe</td>\n",
              "      <td>Poland</td>\n",
              "      <td>Beverages</td>\n",
              "      <td>Online</td>\n",
              "      <td>L</td>\n",
              "      <td>4/18/2010</td>\n",
              "      <td>380507028</td>\n",
              "      <td>5/26/2010</td>\n",
              "      <td>9340</td>\n",
              "      <td>47.45</td>\n",
              "      <td>31.79</td>\n",
              "      <td>443183.00</td>\n",
              "      <td>296918.60</td>\n",
              "      <td>146264.40</td>\n",
              "    </tr>\n",
              "    <tr>\n",
              "      <th>2</th>\n",
              "      <td>North America</td>\n",
              "      <td>Canada</td>\n",
              "      <td>Cereal</td>\n",
              "      <td>Online</td>\n",
              "      <td>M</td>\n",
              "      <td>1/8/2015</td>\n",
              "      <td>504055583</td>\n",
              "      <td>1/31/2015</td>\n",
              "      <td>103</td>\n",
              "      <td>205.70</td>\n",
              "      <td>117.11</td>\n",
              "      <td>21187.10</td>\n",
              "      <td>12062.33</td>\n",
              "      <td>9124.77</td>\n",
              "    </tr>\n",
              "    <tr>\n",
              "      <th>3</th>\n",
              "      <td>Europe</td>\n",
              "      <td>Belarus</td>\n",
              "      <td>Snacks</td>\n",
              "      <td>Online</td>\n",
              "      <td>C</td>\n",
              "      <td>1/19/2014</td>\n",
              "      <td>954955518</td>\n",
              "      <td>2/27/2014</td>\n",
              "      <td>1414</td>\n",
              "      <td>152.58</td>\n",
              "      <td>97.44</td>\n",
              "      <td>215748.12</td>\n",
              "      <td>137780.16</td>\n",
              "      <td>77967.96</td>\n",
              "    </tr>\n",
              "    <tr>\n",
              "      <th>4</th>\n",
              "      <td>Middle East and North Africa</td>\n",
              "      <td>Oman</td>\n",
              "      <td>Cereal</td>\n",
              "      <td>Offline</td>\n",
              "      <td>H</td>\n",
              "      <td>4/26/2019</td>\n",
              "      <td>970755660</td>\n",
              "      <td>6/2/2019</td>\n",
              "      <td>7027</td>\n",
              "      <td>205.70</td>\n",
              "      <td>117.11</td>\n",
              "      <td>1445453.90</td>\n",
              "      <td>822931.97</td>\n",
              "      <td>622521.93</td>\n",
              "    </tr>\n",
              "  </tbody>\n",
              "</table>\n",
              "</div>"
            ],
            "text/plain": [
              "                         Region  Country  ...  Total Cost Total Profit\n",
              "0         Australia and Oceania    Palau  ...  1260428.96    303126.25\n",
              "1                        Europe   Poland  ...   296918.60    146264.40\n",
              "2                 North America   Canada  ...    12062.33      9124.77\n",
              "3                        Europe  Belarus  ...   137780.16     77967.96\n",
              "4  Middle East and North Africa     Oman  ...   822931.97    622521.93\n",
              "\n",
              "[5 rows x 14 columns]"
            ]
          },
          "metadata": {
            "tags": []
          },
          "execution_count": 16
        }
      ]
    },
    {
      "cell_type": "code",
      "metadata": {
        "colab": {
          "base_uri": "https://localhost:8080/"
        },
        "id": "BglERpfAWTIj",
        "outputId": "793987b0-c3d2-43b3-f71e-93f0914600a9"
      },
      "source": [
        "!git clone https://github.com/rapidsai/rapidsai-csp-utils.git\r\n",
        "!bash rapidsai-csp-utils/colab/rapids-colab.sh\r\n",
        "\r\n",
        "import sys, os\r\n",
        "\r\n",
        "dist_package_index = sys.path.index('/usr/local/lib/python3.6/dist-packages')\r\n",
        "sys.path = sys.path[:dist_package_index] + ['/usr/local/lib/python3.6/site-packages'] + sys.path[dist_package_index:]\r\n",
        "sys.path\r\n",
        "exec(open('rapidsai-csp-utils/colab/update_modules.py').read(), globals())"
      ],
      "execution_count": 17,
      "outputs": [
        {
          "output_type": "stream",
          "text": [
            "Cloning into 'rapidsai-csp-utils'...\n",
            "remote: Enumerating objects: 14, done.\u001b[K\n",
            "remote: Counting objects: 100% (14/14), done.\u001b[K\n",
            "remote: Compressing objects: 100% (14/14), done.\u001b[K\n",
            "remote: Total 185 (delta 5), reused 0 (delta 0), pack-reused 171\u001b[K\n",
            "Receiving objects: 100% (185/185), 57.14 KiB | 7.14 MiB/s, done.\n",
            "Resolving deltas: 100% (67/67), done.\n",
            "PLEASE READ\n",
            "********************************************************************************************************\n",
            "Changes:\n",
            "1. IMPORTANT CHANGES: RAPIDS on Colab will be pegged to 0.14 Stable until further notice.\n",
            "2. Default stable version is now 0.14.  Nightly will redirect to 0.14.\n",
            "3. You can now declare your RAPIDSAI version as a CLI option and skip the user prompts (ex: '0.14' or '0.15', between 0.13 to 0.14, without the quotes): \n",
            "        \"!bash rapidsai-csp-utils/colab/rapids-colab.sh <version/label>\"\n",
            "        Examples: '!bash rapidsai-csp-utils/colab/rapids-colab.sh 0.14', or '!bash rapidsai-csp-utils/colab/rapids-colab.sh stable', or '!bash rapidsai-csp-utils/colab/rapids-colab.sh s'\n",
            "                  '!bash rapidsai-csp-utils/colab/rapids-colab.sh 0.15, or '!bash rapidsai-csp-utils/colab/rapids-colab.sh nightly', or '!bash rapidsai-csp-utils/colab/rapids-colab.sh n'\n",
            "Enjoy using RAPIDS!  If you have any issues with or suggestions for RAPIDSAI on Colab, please create a bug request on https://github.com/rapidsai/rapidsai-csp-utils/issues/new.  Thanks!\n",
            "As you didn't specify a RAPIDS version, please enter in the box your desired RAPIDS version (ex: '0.14' or '0.15', between 0.13 to 0.15, without the quotes)\n",
            "and hit Enter. If you need stability, use 0.14. If you want bleeding edge, use our nightly version (0.15), but understand that caveats that come with nightly versions.\n",
            "\n",
            "rapidsai-csp-utils/colab/rapids-colab.sh: line 94: [: ==: unary operator expected\n",
            "rapidsai-csp-utils/colab/rapids-colab.sh: line 94: [: ==: unary operator expected\n",
            "rapidsai-csp-utils/colab/rapids-colab.sh: line 94: [: ==: unary operator expected\n",
            "rapidsai-csp-utils/colab/rapids-colab.sh: line 94: [: ==: unary operator expected\n",
            "rapidsai-csp-utils/colab/rapids-colab.sh: line 101: [: ==: unary operator expected\n",
            "rapidsai-csp-utils/colab/rapids-colab.sh: line 101: [: ==: unary operator expected\n",
            "rapidsai-csp-utils/colab/rapids-colab.sh: line 101: [: ==: unary operator expected\n",
            "rapidsai-csp-utils/colab/rapids-colab.sh: line 101: [: ==: unary operator expected\n",
            "RAPIDS Version modified to 0.13 stable\n",
            "Checking for GPU type:\n",
            "***********************************************************************\n",
            "Woo! Your instance has the right kind of GPU, a 'Tesla T4'!\n",
            "***********************************************************************\n",
            "\n",
            "Removing conflicting packages, will replace with RAPIDS compatible versions\n",
            "\n",
            "Uninstalling xgboost-0.90:\n",
            "  Successfully uninstalled xgboost-0.90\n",
            "Uninstalling dask-2.12.0:\n",
            "  Successfully uninstalled dask-2.12.0\n",
            "Uninstalling distributed-2.19.0:\n",
            "  Successfully uninstalled distributed-2.19.0\n",
            "Installing conda\n",
            "--2020-12-19 04:10:15--  https://repo.continuum.io/miniconda/Miniconda3-4.5.4-Linux-x86_64.sh\n",
            "Resolving repo.continuum.io (repo.continuum.io)... 104.18.200.79, 104.18.201.79, 2606:4700::6812:c94f, ...\n",
            "Connecting to repo.continuum.io (repo.continuum.io)|104.18.200.79|:443... connected.\n",
            "HTTP request sent, awaiting response... 301 Moved Permanently\n",
            "Location: https://repo.anaconda.com/miniconda/Miniconda3-4.5.4-Linux-x86_64.sh [following]\n",
            "--2020-12-19 04:10:15--  https://repo.anaconda.com/miniconda/Miniconda3-4.5.4-Linux-x86_64.sh\n",
            "Resolving repo.anaconda.com (repo.anaconda.com)... 104.16.130.3, 104.16.131.3, 2606:4700::6810:8203, ...\n",
            "Connecting to repo.anaconda.com (repo.anaconda.com)|104.16.130.3|:443... connected.\n",
            "HTTP request sent, awaiting response... 200 OK\n",
            "Length: 58468498 (56M) [application/x-sh]\n",
            "Saving to: ‘Miniconda3-4.5.4-Linux-x86_64.sh’\n",
            "\n",
            "Miniconda3-4.5.4-Li 100%[===================>]  55.76M   258MB/s    in 0.2s    \n",
            "\n",
            "2020-12-19 04:10:15 (258 MB/s) - ‘Miniconda3-4.5.4-Linux-x86_64.sh’ saved [58468498/58468498]\n",
            "\n",
            "PREFIX=/usr/local\n",
            "installing: python-3.6.5-hc3d631a_2 ...\n",
            "Python 3.6.5 :: Anaconda, Inc.\n",
            "installing: ca-certificates-2018.03.07-0 ...\n",
            "installing: conda-env-2.6.0-h36134e3_1 ...\n",
            "installing: libgcc-ng-7.2.0-hdf63c60_3 ...\n",
            "installing: libstdcxx-ng-7.2.0-hdf63c60_3 ...\n",
            "installing: libffi-3.2.1-hd88cf55_4 ...\n",
            "installing: ncurses-6.1-hf484d3e_0 ...\n",
            "installing: openssl-1.0.2o-h20670df_0 ...\n",
            "installing: tk-8.6.7-hc745277_3 ...\n",
            "installing: xz-5.2.4-h14c3975_4 ...\n",
            "installing: yaml-0.1.7-had09818_2 ...\n",
            "installing: zlib-1.2.11-ha838bed_2 ...\n",
            "installing: libedit-3.1.20170329-h6b74fdf_2 ...\n",
            "installing: readline-7.0-ha6073c6_4 ...\n",
            "installing: sqlite-3.23.1-he433501_0 ...\n",
            "installing: asn1crypto-0.24.0-py36_0 ...\n",
            "installing: certifi-2018.4.16-py36_0 ...\n",
            "installing: chardet-3.0.4-py36h0f667ec_1 ...\n",
            "installing: idna-2.6-py36h82fb2a8_1 ...\n",
            "installing: pycosat-0.6.3-py36h0a5515d_0 ...\n",
            "installing: pycparser-2.18-py36hf9f622e_1 ...\n",
            "installing: pysocks-1.6.8-py36_0 ...\n",
            "installing: ruamel_yaml-0.15.37-py36h14c3975_2 ...\n",
            "installing: six-1.11.0-py36h372c433_1 ...\n",
            "installing: cffi-1.11.5-py36h9745a5d_0 ...\n",
            "installing: setuptools-39.2.0-py36_0 ...\n",
            "installing: cryptography-2.2.2-py36h14c3975_0 ...\n",
            "installing: wheel-0.31.1-py36_0 ...\n",
            "installing: pip-10.0.1-py36_0 ...\n",
            "installing: pyopenssl-18.0.0-py36_0 ...\n",
            "installing: urllib3-1.22-py36hbe7ace6_0 ...\n",
            "installing: requests-2.18.4-py36he2e5f8d_1 ...\n",
            "installing: conda-4.5.4-py36_0 ...\n",
            "installation finished.\n",
            "WARNING:\n",
            "    You currently have a PYTHONPATH environment variable set. This may cause\n",
            "    unexpected behavior when running the Python interpreter in Miniconda3.\n",
            "    For best results, please verify that your PYTHONPATH only points to\n",
            "    directories of packages that are compatible with the Python interpreter\n",
            "    in Miniconda3: /usr/local\n",
            "Solving environment: - \b\b\\ \b\b| \b\b/ \b\b- \b\b\\ \b\b| \b\b/ \b\b- \b\b\\ \b\b| \b\b/ \b\b- \b\b\\ \b\b| \b\b/ \b\b- \b\b\\ \b\b| \b\b/ \b\b- \b\b\\ \b\b| \b\b/ \b\b- \b\b\\ \b\b| \b\b/ \b\b- \b\b\\ \b\b| \b\b/ \b\b- \b\b\\ \b\b| \b\b/ \b\b- \b\b\\ \b\b| \b\b/ \b\b- \b\b\\ \b\b| \b\b/ \b\b- \b\b\\ \b\b| \b\b/ \b\b- \b\b\\ \b\b| \b\b/ \b\b- \b\b\\ \b\b| \b\b/ \b\b- \b\b\\ \b\b| \b\b/ \b\b- \b\b\\ \b\b| \b\b/ \b\b- \b\b\\ \b\b| \b\b/ \b\b- \b\b\\ \b\b| \b\b/ \b\b- \b\b\\ \b\b| \b\b/ \b\b- \b\b\\ \b\b| \b\b/ \b\b- \b\b\\ \b\b| \b\b/ \b\b- \b\b\\ \b\b| \b\b/ \b\b- \b\b\\ \b\b| \b\b/ \b\b- \b\b\\ \b\b| \b\b/ \b\b- \b\b\\ \b\b| \b\b/ \b\b- \b\b\\ \b\b| \b\b/ \b\b- \b\b\\ \b\b| \b\b/ \b\b- \b\b\\ \b\b| \b\bdone\n",
            "\n",
            "## Package Plan ##\n",
            "\n",
            "  environment location: /usr/local\n",
            "\n",
            "  added / updated specs: \n",
            "    - conda\n",
            "    - python=3.6\n",
            "\n",
            "\n",
            "The following packages will be downloaded:\n",
            "\n",
            "    package                    |            build\n",
            "    ---------------------------|-----------------\n",
            "    pyopenssl-20.0.1           |     pyhd3eb1b0_1          48 KB\n",
            "    ca-certificates-2020.12.8  |       h06a4308_0         128 KB\n",
            "    libstdcxx-ng-9.1.0         |       hdf63c60_0         4.0 MB\n",
            "    tqdm-4.54.1                |     pyhd3eb1b0_0          54 KB\n",
            "    libedit-3.1.20191231       |       h14c3975_1         121 KB\n",
            "    pip-20.3.3                 |   py36h06a4308_0         2.0 MB\n",
            "    _libgcc_mutex-0.1          |             main           3 KB\n",
            "    wheel-0.36.2               |     pyhd3eb1b0_0          31 KB\n",
            "    readline-8.0               |       h7b6447c_0         428 KB\n",
            "    zlib-1.2.11                |       h7b6447c_3         120 KB\n",
            "    tk-8.6.10                  |       hbc83047_0         3.2 MB\n",
            "    certifi-2020.12.5          |   py36h06a4308_0         144 KB\n",
            "    conda-package-handling-1.7.2|   py36h03888b9_0         967 KB\n",
            "    idna-2.10                  |             py_0          56 KB\n",
            "    pycosat-0.6.3              |   py36h27cfd23_0         107 KB\n",
            "    python-3.6.12              |       hcff3b4d_2        34.0 MB\n",
            "    sqlite-3.33.0              |       h62c20be_0         2.0 MB\n",
            "    yaml-0.2.5                 |       h7b6447c_0          87 KB\n",
            "    libgcc-ng-9.1.0            |       hdf63c60_0         8.1 MB\n",
            "    openssl-1.1.1i             |       h27cfd23_0         3.8 MB\n",
            "    ruamel_yaml-0.15.87        |   py36h7b6447c_1         256 KB\n",
            "    brotlipy-0.7.0             |py36h27cfd23_1003         349 KB\n",
            "    xz-5.2.5                   |       h7b6447c_0         438 KB\n",
            "    libffi-3.3                 |       he6710b0_2          54 KB\n",
            "    requests-2.25.1            |     pyhd3eb1b0_0          51 KB\n",
            "    ld_impl_linux-64-2.33.1    |       h53a641e_7         645 KB\n",
            "    six-1.15.0                 |   py36h06a4308_0          27 KB\n",
            "    urllib3-1.26.2             |     pyhd3eb1b0_0          99 KB\n",
            "    cffi-1.14.4                |   py36h261ae71_0         224 KB\n",
            "    setuptools-51.0.0          |   py36h06a4308_2         936 KB\n",
            "    ncurses-6.2                |       he6710b0_1         1.1 MB\n",
            "    conda-4.9.2                |   py36h06a4308_0         3.1 MB\n",
            "    pysocks-1.7.1              |   py36h06a4308_0          30 KB\n",
            "    cryptography-3.3.1         |   py36h3c74f83_0         638 KB\n",
            "    chardet-4.0.0              |py36h06a4308_1003         213 KB\n",
            "    pycparser-2.20             |             py_2          94 KB\n",
            "    ------------------------------------------------------------\n",
            "                                           Total:        67.6 MB\n",
            "\n",
            "The following NEW packages will be INSTALLED:\n",
            "\n",
            "    _libgcc_mutex:          0.1-main               \n",
            "    brotlipy:               0.7.0-py36h27cfd23_1003\n",
            "    conda-package-handling: 1.7.2-py36h03888b9_0   \n",
            "    ld_impl_linux-64:       2.33.1-h53a641e_7      \n",
            "    tqdm:                   4.54.1-pyhd3eb1b0_0    \n",
            "\n",
            "The following packages will be UPDATED:\n",
            "\n",
            "    ca-certificates:        2018.03.07-0            --> 2020.12.8-h06a4308_0    \n",
            "    certifi:                2018.4.16-py36_0        --> 2020.12.5-py36h06a4308_0\n",
            "    cffi:                   1.11.5-py36h9745a5d_0   --> 1.14.4-py36h261ae71_0   \n",
            "    chardet:                3.0.4-py36h0f667ec_1    --> 4.0.0-py36h06a4308_1003 \n",
            "    conda:                  4.5.4-py36_0            --> 4.9.2-py36h06a4308_0    \n",
            "    cryptography:           2.2.2-py36h14c3975_0    --> 3.3.1-py36h3c74f83_0    \n",
            "    idna:                   2.6-py36h82fb2a8_1      --> 2.10-py_0               \n",
            "    libedit:                3.1.20170329-h6b74fdf_2 --> 3.1.20191231-h14c3975_1 \n",
            "    libffi:                 3.2.1-hd88cf55_4        --> 3.3-he6710b0_2          \n",
            "    libgcc-ng:              7.2.0-hdf63c60_3        --> 9.1.0-hdf63c60_0        \n",
            "    libstdcxx-ng:           7.2.0-hdf63c60_3        --> 9.1.0-hdf63c60_0        \n",
            "    ncurses:                6.1-hf484d3e_0          --> 6.2-he6710b0_1          \n",
            "    openssl:                1.0.2o-h20670df_0       --> 1.1.1i-h27cfd23_0       \n",
            "    pip:                    10.0.1-py36_0           --> 20.3.3-py36h06a4308_0   \n",
            "    pycosat:                0.6.3-py36h0a5515d_0    --> 0.6.3-py36h27cfd23_0    \n",
            "    pycparser:              2.18-py36hf9f622e_1     --> 2.20-py_2               \n",
            "    pyopenssl:              18.0.0-py36_0           --> 20.0.1-pyhd3eb1b0_1     \n",
            "    pysocks:                1.6.8-py36_0            --> 1.7.1-py36h06a4308_0    \n",
            "    python:                 3.6.5-hc3d631a_2        --> 3.6.12-hcff3b4d_2       \n",
            "    readline:               7.0-ha6073c6_4          --> 8.0-h7b6447c_0          \n",
            "    requests:               2.18.4-py36he2e5f8d_1   --> 2.25.1-pyhd3eb1b0_0     \n",
            "    ruamel_yaml:            0.15.37-py36h14c3975_2  --> 0.15.87-py36h7b6447c_1  \n",
            "    setuptools:             39.2.0-py36_0           --> 51.0.0-py36h06a4308_2   \n",
            "    six:                    1.11.0-py36h372c433_1   --> 1.15.0-py36h06a4308_0   \n",
            "    sqlite:                 3.23.1-he433501_0       --> 3.33.0-h62c20be_0       \n",
            "    tk:                     8.6.7-hc745277_3        --> 8.6.10-hbc83047_0       \n",
            "    urllib3:                1.22-py36hbe7ace6_0     --> 1.26.2-pyhd3eb1b0_0     \n",
            "    wheel:                  0.31.1-py36_0           --> 0.36.2-pyhd3eb1b0_0     \n",
            "    xz:                     5.2.4-h14c3975_4        --> 5.2.5-h7b6447c_0        \n",
            "    yaml:                   0.1.7-had09818_2        --> 0.2.5-h7b6447c_0        \n",
            "    zlib:                   1.2.11-ha838bed_2       --> 1.2.11-h7b6447c_3       \n",
            "\n",
            "\n",
            "Downloading and Extracting Packages\n",
            "pyopenssl-20.0.1     |   48 KB | : 100% 1.0/1 [00:00<00:00, 26.91it/s]\n",
            "ca-certificates-2020 |  128 KB | : 100% 1.0/1 [00:00<00:00, 21.93it/s]\n",
            "libstdcxx-ng-9.1.0   |  4.0 MB | : 100% 1.0/1 [00:00<00:00,  1.65it/s]               \n",
            "tqdm-4.54.1          |   54 KB | : 100% 1.0/1 [00:00<00:00, 27.47it/s]\n",
            "libedit-3.1.20191231 |  121 KB | : 100% 1.0/1 [00:00<00:00, 20.50it/s]\n",
            "pip-20.3.3           |  2.0 MB | : 100% 1.0/1 [00:00<00:00,  1.77it/s]               \n",
            "_libgcc_mutex-0.1    |    3 KB | : 100% 1.0/1 [00:00<00:00, 53.81it/s]\n",
            "wheel-0.36.2         |   31 KB | : 100% 1.0/1 [00:00<00:00, 33.14it/s]\n",
            "readline-8.0         |  428 KB | : 100% 1.0/1 [00:00<00:00,  9.56it/s]\n",
            "zlib-1.2.11          |  120 KB | : 100% 1.0/1 [00:00<00:00, 29.16it/s]\n",
            "tk-8.6.10            |  3.2 MB | : 100% 1.0/1 [00:00<00:00,  1.57it/s]               \n",
            "certifi-2020.12.5    |  144 KB | : 100% 1.0/1 [00:00<00:00, 26.89it/s]\n",
            "conda-package-handli |  967 KB | : 100% 1.0/1 [00:00<00:00,  6.96it/s]               \n",
            "idna-2.10            |   56 KB | : 100% 1.0/1 [00:00<00:00, 22.74it/s]\n",
            "pycosat-0.6.3        |  107 KB | : 100% 1.0/1 [00:00<00:00, 27.11it/s]\n",
            "python-3.6.12        | 34.0 MB | : 100% 1.0/1 [00:04<00:00,  4.70s/it]               \n",
            "sqlite-3.33.0        |  2.0 MB | : 100% 1.0/1 [00:00<00:00,  3.20it/s]               \n",
            "yaml-0.2.5           |   87 KB | : 100% 1.0/1 [00:00<00:00, 28.08it/s]\n",
            "libgcc-ng-9.1.0      |  8.1 MB | : 100% 1.0/1 [00:01<00:00,  1.17s/it]               \n",
            "openssl-1.1.1i       |  3.8 MB | : 100% 1.0/1 [00:00<00:00,  1.61it/s]               \n",
            "ruamel_yaml-0.15.87  |  256 KB | : 100% 1.0/1 [00:00<00:00, 12.88it/s]\n",
            "brotlipy-0.7.0       |  349 KB | : 100% 1.0/1 [00:00<00:00, 15.05it/s]\n",
            "xz-5.2.5             |  438 KB | : 100% 1.0/1 [00:00<00:00,  9.11it/s]\n",
            "libffi-3.3           |   54 KB | : 100% 1.0/1 [00:00<00:00, 32.84it/s]\n",
            "requests-2.25.1      |   51 KB | : 100% 1.0/1 [00:00<00:00, 24.02it/s]\n",
            "ld_impl_linux-64-2.3 |  645 KB | : 100% 1.0/1 [00:00<00:00,  6.50it/s]               \n",
            "six-1.15.0           |   27 KB | : 100% 1.0/1 [00:00<00:00, 46.76it/s]\n",
            "urllib3-1.26.2       |   99 KB | : 100% 1.0/1 [00:00<00:00, 18.90it/s]\n",
            "cffi-1.14.4          |  224 KB | : 100% 1.0/1 [00:00<00:00, 12.32it/s]\n",
            "setuptools-51.0.0    |  936 KB | : 100% 1.0/1 [00:00<00:00,  3.50it/s]               \n",
            "ncurses-6.2          |  1.1 MB | : 100% 1.0/1 [00:00<00:00,  1.30it/s]              \n",
            "conda-4.9.2          |  3.1 MB | : 100% 1.0/1 [00:00<00:00,  1.52it/s]               \n",
            "pysocks-1.7.1        |   30 KB | : 100% 1.0/1 [00:00<00:00, 26.79it/s]\n",
            "cryptography-3.3.1   |  638 KB | : 100% 1.0/1 [00:00<00:00,  4.92it/s]               \n",
            "chardet-4.0.0        |  213 KB | : 100% 1.0/1 [00:00<00:00, 12.58it/s]\n",
            "pycparser-2.20       |   94 KB | : 100% 1.0/1 [00:00<00:00, 15.97it/s]\n",
            "Preparing transaction: - \b\b\\ \b\b| \b\b/ \b\b- \b\bdone\n",
            "Verifying transaction: | \b\b/ \b\b- \b\b\\ \b\b| \b\b/ \b\b- \b\b\\ \b\b| \b\b/ \b\b- \b\b\\ \b\b| \b\b/ \b\b- \b\b\\ \b\b| \b\bdone\n",
            "Executing transaction: - \b\b\\ \b\b| \b\b/ \b\b- \b\b\\ \b\b| \b\b/ \b\b- \b\b\\ \b\b| \b\b/ \b\b- \b\b\\ \b\b| \b\b/ \b\b- \b\b\\ \b\b| \b\b/ \b\b- \b\b\\ \b\b| \b\b/ \b\b- \b\b\\ \b\b| \b\b/ \b\b- \b\b\\ \b\b| \b\b/ \b\b- \b\b\\ \b\b| \b\b/ \b\b- \b\b\\ \b\b| \b\b/ \b\b- \b\b\\ \b\b| \b\b/ \b\b- \b\b\\ \b\b| \b\b/ \b\b- \b\b\\ \b\b| \b\b/ \b\b- \b\b\\ \b\b| \b\b/ \b\b- \b\b\\ \b\b| \b\b/ \b\b- \b\b\\ \b\b| \b\bdone\n",
            "Collecting package metadata (current_repodata.json): - \b\b\\ \b\b| \b\b/ \b\b- \b\b\\ \b\b| \b\b/ \b\b- \b\b\\ \b\b| \b\b/ \b\b- \b\b\\ \b\b| \b\b/ \b\b- \b\b\\ \b\b| \b\b/ \b\b- \b\b\\ \b\b| \b\b/ \b\b- \b\b\\ \b\b| \b\b/ \b\b- \b\b\\ \b\b| \b\b/ \b\b- \b\b\\ \b\b| \b\b/ \b\b- \b\b\\ \b\b| \b\b/ \b\b- \b\b\\ \b\b| \b\b/ \b\b- \b\b\\ \b\b| \b\b/ \b\b- \b\b\\ \b\b| \b\b/ \b\b- \b\b\\ \b\b| \b\b/ \b\b- \b\b\\ \b\b| \b\b/ \b\b- \b\b\\ \b\b| \b\b/ \b\bdone\n",
            "Solving environment: \\ \b\b| \b\b/ \b\b- \b\b\\ \b\b| \b\b/ \b\b- \b\b\\ \b\bdone\n",
            "\n",
            "## Package Plan ##\n",
            "\n",
            "  environment location: /usr/local\n",
            "\n",
            "\n",
            "The following packages will be downloaded:\n",
            "\n",
            "    package                    |            build\n",
            "    ---------------------------|-----------------\n",
            "    _libgcc_mutex-0.1          |      conda_forge           3 KB  conda-forge\n",
            "    _openmp_mutex-4.5          |            1_gnu          22 KB  conda-forge\n",
            "    brotlipy-0.7.0             |py36he6145b8_1001         347 KB  conda-forge\n",
            "    ca-certificates-2020.12.5  |       ha878542_0         137 KB  conda-forge\n",
            "    certifi-2020.12.5          |   py36h5fab9bb_0         143 KB  conda-forge\n",
            "    cffi-1.14.4                |   py36hc120d54_1         225 KB  conda-forge\n",
            "    chardet-4.0.0              |   py36h5fab9bb_0         219 KB  conda-forge\n",
            "    conda-4.9.2                |   py36h5fab9bb_0         3.0 MB  conda-forge\n",
            "    conda-package-handling-1.7.2|   py36he6145b8_0         925 KB  conda-forge\n",
            "    cryptography-3.3.1         |   py36h0a59100_0         624 KB  conda-forge\n",
            "    idna-2.10                  |     pyh9f0ad1d_0          52 KB  conda-forge\n",
            "    ld_impl_linux-64-2.35.1    |       hea4e1c9_1         617 KB  conda-forge\n",
            "    libffi-3.3                 |       h58526e2_2          51 KB  conda-forge\n",
            "    libgcc-ng-9.3.0            |      h5dbcf3e_17         7.8 MB  conda-forge\n",
            "    libgomp-9.3.0              |      h5dbcf3e_17         378 KB  conda-forge\n",
            "    libstdcxx-ng-9.3.0         |      h2ae2ef3_17         4.0 MB  conda-forge\n",
            "    ncurses-6.2                |       h58526e2_4         985 KB  conda-forge\n",
            "    openssl-1.1.1i             |       h7f98852_0         2.1 MB  conda-forge\n",
            "    pip-20.3.3                 |     pyhd8ed1ab_0         1.1 MB  conda-forge\n",
            "    pycosat-0.6.3              |py36he6145b8_1005         107 KB  conda-forge\n",
            "    pycparser-2.20             |     pyh9f0ad1d_2          94 KB  conda-forge\n",
            "    pyopenssl-20.0.1           |     pyhd8ed1ab_0          48 KB  conda-forge\n",
            "    pysocks-1.7.1              |   py36h9880bd3_2          27 KB  conda-forge\n",
            "    python_abi-3.6             |          1_cp36m           4 KB  conda-forge\n",
            "    readline-8.0               |       he28a2e2_2         281 KB  conda-forge\n",
            "    requests-2.25.1            |     pyhd3deb0d_0          51 KB  conda-forge\n",
            "    ruamel_yaml-0.15.80        |py36he6145b8_1003         250 KB  conda-forge\n",
            "    setuptools-49.6.0          |   py36h9880bd3_2         947 KB  conda-forge\n",
            "    six-1.15.0                 |     pyh9f0ad1d_0          14 KB  conda-forge\n",
            "    sqlite-3.34.0              |       h74cdb3f_0         1.4 MB  conda-forge\n",
            "    tk-8.6.10                  |       h21135ba_1         3.2 MB  conda-forge\n",
            "    tqdm-4.54.1                |     pyhd8ed1ab_0          54 KB  conda-forge\n",
            "    urllib3-1.26.2             |     pyhd8ed1ab_0          98 KB  conda-forge\n",
            "    wheel-0.36.2               |     pyhd3deb0d_0          31 KB  conda-forge\n",
            "    xz-5.2.5                   |       h516909a_1         343 KB  conda-forge\n",
            "    yaml-0.2.5                 |       h516909a_0          82 KB  conda-forge\n",
            "    zlib-1.2.11                |    h516909a_1010         106 KB  conda-forge\n",
            "    ------------------------------------------------------------\n",
            "                                           Total:        29.8 MB\n",
            "\n",
            "The following NEW packages will be INSTALLED:\n",
            "\n",
            "  _openmp_mutex      conda-forge/linux-64::_openmp_mutex-4.5-1_gnu\n",
            "  libgomp            conda-forge/linux-64::libgomp-9.3.0-h5dbcf3e_17\n",
            "  python_abi         conda-forge/linux-64::python_abi-3.6-1_cp36m\n",
            "\n",
            "The following packages will be REMOVED:\n",
            "\n",
            "  asn1crypto-0.24.0-py36_0\n",
            "  conda-env-2.6.0-h36134e3_1\n",
            "  libedit-3.1.20191231-h14c3975_1\n",
            "\n",
            "The following packages will be UPDATED:\n",
            "\n",
            "  cffi                pkgs/main::cffi-1.14.4-py36h261ae71_0 --> conda-forge::cffi-1.14.4-py36hc120d54_1\n",
            "  ld_impl_linux-64   pkgs/main::ld_impl_linux-64-2.33.1-h5~ --> conda-forge::ld_impl_linux-64-2.35.1-hea4e1c9_1\n",
            "  libgcc-ng           pkgs/main::libgcc-ng-9.1.0-hdf63c60_0 --> conda-forge::libgcc-ng-9.3.0-h5dbcf3e_17\n",
            "  libstdcxx-ng       pkgs/main::libstdcxx-ng-9.1.0-hdf63c6~ --> conda-forge::libstdcxx-ng-9.3.0-h2ae2ef3_17\n",
            "  ncurses                 pkgs/main::ncurses-6.2-he6710b0_1 --> conda-forge::ncurses-6.2-h58526e2_4\n",
            "  pycosat            pkgs/main::pycosat-0.6.3-py36h27cfd23~ --> conda-forge::pycosat-0.6.3-py36he6145b8_1005\n",
            "  pysocks            pkgs/main::pysocks-1.7.1-py36h06a4308~ --> conda-forge::pysocks-1.7.1-py36h9880bd3_2\n",
            "  readline               pkgs/main::readline-8.0-h7b6447c_0 --> conda-forge::readline-8.0-he28a2e2_2\n",
            "  sqlite                pkgs/main::sqlite-3.33.0-h62c20be_0 --> conda-forge::sqlite-3.34.0-h74cdb3f_0\n",
            "  tk                        pkgs/main::tk-8.6.10-hbc83047_0 --> conda-forge::tk-8.6.10-h21135ba_1\n",
            "  xz                         pkgs/main::xz-5.2.5-h7b6447c_0 --> conda-forge::xz-5.2.5-h516909a_1\n",
            "  zlib                    pkgs/main::zlib-1.2.11-h7b6447c_3 --> conda-forge::zlib-1.2.11-h516909a_1010\n",
            "\n",
            "The following packages will be SUPERSEDED by a higher-priority channel:\n",
            "\n",
            "  _libgcc_mutex           pkgs/main::_libgcc_mutex-0.1-main --> conda-forge::_libgcc_mutex-0.1-conda_forge\n",
            "  brotlipy           pkgs/main::brotlipy-0.7.0-py36h27cfd2~ --> conda-forge::brotlipy-0.7.0-py36he6145b8_1001\n",
            "  ca-certificates    pkgs/main::ca-certificates-2020.12.8-~ --> conda-forge::ca-certificates-2020.12.5-ha878542_0\n",
            "  certifi            pkgs/main::certifi-2020.12.5-py36h06a~ --> conda-forge::certifi-2020.12.5-py36h5fab9bb_0\n",
            "  chardet            pkgs/main::chardet-4.0.0-py36h06a4308~ --> conda-forge::chardet-4.0.0-py36h5fab9bb_0\n",
            "  conda               pkgs/main::conda-4.9.2-py36h06a4308_0 --> conda-forge::conda-4.9.2-py36h5fab9bb_0\n",
            "  conda-package-han~ pkgs/main::conda-package-handling-1.7~ --> conda-forge::conda-package-handling-1.7.2-py36he6145b8_0\n",
            "  cryptography       pkgs/main::cryptography-3.3.1-py36h3c~ --> conda-forge::cryptography-3.3.1-py36h0a59100_0\n",
            "  idna                            pkgs/main::idna-2.10-py_0 --> conda-forge::idna-2.10-pyh9f0ad1d_0\n",
            "  libffi                   pkgs/main::libffi-3.3-he6710b0_2 --> conda-forge::libffi-3.3-h58526e2_2\n",
            "  openssl              pkgs/main::openssl-1.1.1i-h27cfd23_0 --> conda-forge::openssl-1.1.1i-h7f98852_0\n",
            "  pip                pkgs/main/linux-64::pip-20.3.3-py36h0~ --> conda-forge/noarch::pip-20.3.3-pyhd8ed1ab_0\n",
            "  pycparser                  pkgs/main::pycparser-2.20-py_2 --> conda-forge::pycparser-2.20-pyh9f0ad1d_2\n",
            "  pyopenssl          pkgs/main::pyopenssl-20.0.1-pyhd3eb1b~ --> conda-forge::pyopenssl-20.0.1-pyhd8ed1ab_0\n",
            "  requests           pkgs/main::requests-2.25.1-pyhd3eb1b0~ --> conda-forge::requests-2.25.1-pyhd3deb0d_0\n",
            "  ruamel_yaml        pkgs/main::ruamel_yaml-0.15.87-py36h7~ --> conda-forge::ruamel_yaml-0.15.80-py36he6145b8_1003\n",
            "  setuptools         pkgs/main::setuptools-51.0.0-py36h06a~ --> conda-forge::setuptools-49.6.0-py36h9880bd3_2\n",
            "  six                pkgs/main/linux-64::six-1.15.0-py36h0~ --> conda-forge/noarch::six-1.15.0-pyh9f0ad1d_0\n",
            "  tqdm                  pkgs/main::tqdm-4.54.1-pyhd3eb1b0_0 --> conda-forge::tqdm-4.54.1-pyhd8ed1ab_0\n",
            "  urllib3            pkgs/main::urllib3-1.26.2-pyhd3eb1b0_0 --> conda-forge::urllib3-1.26.2-pyhd8ed1ab_0\n",
            "  wheel                pkgs/main::wheel-0.36.2-pyhd3eb1b0_0 --> conda-forge::wheel-0.36.2-pyhd3deb0d_0\n",
            "  yaml                     pkgs/main::yaml-0.2.5-h7b6447c_0 --> conda-forge::yaml-0.2.5-h516909a_0\n",
            "\n",
            "\n",
            "\n",
            "Downloading and Extracting Packages\n",
            "urllib3-1.26.2       | 98 KB     | : 100% 1.0/1 [00:00<00:00, 10.06it/s]\n",
            "six-1.15.0           | 14 KB     | : 100% 1.0/1 [00:00<00:00, 36.01it/s]\n",
            "zlib-1.2.11          | 106 KB    | : 100% 1.0/1 [00:00<00:00, 26.58it/s]\n",
            "pysocks-1.7.1        | 27 KB     | : 100% 1.0/1 [00:00<00:00, 31.04it/s]\n",
            "openssl-1.1.1i       | 2.1 MB    | : 100% 1.0/1 [00:00<00:00,  3.22it/s]\n",
            "certifi-2020.12.5    | 143 KB    | : 100% 1.0/1 [00:00<00:00, 22.05it/s]\n",
            "tk-8.6.10            | 3.2 MB    | : 100% 1.0/1 [00:00<00:00,  1.80it/s]\n",
            "conda-package-handli | 925 KB    | : 100% 1.0/1 [00:00<00:00,  6.69it/s]\n",
            "setuptools-49.6.0    | 947 KB    | : 100% 1.0/1 [00:00<00:00,  4.09it/s]\n",
            "libffi-3.3           | 51 KB     | : 100% 1.0/1 [00:00<00:00, 16.08it/s]\n",
            "libgcc-ng-9.3.0      | 7.8 MB    | : 100% 1.0/1 [00:01<00:00,  1.16s/it]               \n",
            "pyopenssl-20.0.1     | 48 KB     | : 100% 1.0/1 [00:00<00:00, 29.03it/s]\n",
            "requests-2.25.1      | 51 KB     | : 100% 1.0/1 [00:00<00:00, 29.82it/s]\n",
            "ruamel_yaml-0.15.80  | 250 KB    | : 100% 1.0/1 [00:00<00:00, 12.53it/s]\n",
            "brotlipy-0.7.0       | 347 KB    | : 100% 1.0/1 [00:00<00:00, 13.97it/s]\n",
            "wheel-0.36.2         | 31 KB     | : 100% 1.0/1 [00:00<00:00, 29.95it/s]\n",
            "tqdm-4.54.1          | 54 KB     | : 100% 1.0/1 [00:00<00:00, 23.36it/s]\n",
            "pip-20.3.3           | 1.1 MB    | : 100% 1.0/1 [00:00<00:00,  4.16it/s]\n",
            "cryptography-3.3.1   | 624 KB    | : 100% 1.0/1 [00:00<00:00,  5.97it/s]\n",
            "cffi-1.14.4          | 225 KB    | : 100% 1.0/1 [00:00<00:00, 12.59it/s]\n",
            "chardet-4.0.0        | 219 KB    | : 100% 1.0/1 [00:00<00:00, 14.88it/s]\n",
            "_libgcc_mutex-0.1    | 3 KB      | : 100% 1.0/1 [00:00<00:00, 52.58it/s]\n",
            "yaml-0.2.5           | 82 KB     | : 100% 1.0/1 [00:00<00:00, 21.51it/s]\n",
            "conda-4.9.2          | 3.0 MB    | : 100% 1.0/1 [00:00<00:00,  1.82it/s]\n",
            "libstdcxx-ng-9.3.0   | 4.0 MB    | : 100% 1.0/1 [00:00<00:00,  1.69it/s]\n",
            "ca-certificates-2020 | 137 KB    | : 100% 1.0/1 [00:00<00:00, 29.04it/s]\n",
            "ld_impl_linux-64-2.3 | 617 KB    | : 100% 1.0/1 [00:00<00:00,  6.86it/s]\n",
            "_openmp_mutex-4.5    | 22 KB     | : 100% 1.0/1 [00:00<00:00, 41.89it/s]\n",
            "readline-8.0         | 281 KB    | : 100% 1.0/1 [00:00<00:00, 13.20it/s]\n",
            "python_abi-3.6       | 4 KB      | : 100% 1.0/1 [00:00<00:00, 52.43it/s]\n",
            "xz-5.2.5             | 343 KB    | : 100% 1.0/1 [00:00<00:00, 12.68it/s]\n",
            "ncurses-6.2          | 985 KB    | : 100% 1.0/1 [00:00<00:00,  2.53it/s]\n",
            "libgomp-9.3.0        | 378 KB    | : 100% 1.0/1 [00:00<00:00, 13.26it/s]\n",
            "sqlite-3.34.0        | 1.4 MB    | : 100% 1.0/1 [00:00<00:00,  4.66it/s]\n",
            "idna-2.10            | 52 KB     | : 100% 1.0/1 [00:00<00:00, 29.42it/s]\n",
            "pycosat-0.6.3        | 107 KB    | : 100% 1.0/1 [00:00<00:00, 16.41it/s]\n",
            "pycparser-2.20       | 94 KB     | : 100% 1.0/1 [00:00<00:00, 17.29it/s]\n",
            "Preparing transaction: / \b\b- \b\b\\ \b\b| \b\bdone\n",
            "Verifying transaction: - \b\b\\ \b\b| \b\b/ \b\b- \b\b\\ \b\b| \b\bdone\n",
            "Executing transaction: - \b\b\\ \b\b| \b\b/ \b\b- \b\b\\ \b\b| \b\b/ \b\b- \b\b\\ \b\b| \b\b/ \b\b- \b\b\\ \b\b| \b\b/ \b\b- \b\b\\ \b\b| \b\bdone\n",
            "Collecting package metadata (current_repodata.json): - \b\b\\ \b\b| \b\b/ \b\b- \b\b\\ \b\b| \b\b/ \b\b- \b\b\\ \b\b| \b\b/ \b\b- \b\bdone\n",
            "Solving environment: | \b\b/ \b\b- \b\b\\ \b\b| \b\b/ \b\b- \b\bdone\n",
            "\n",
            "# All requested packages already installed.\n",
            "\n",
            "Installing RAPIDS 0.13 packages from the stable release channel\n",
            "Please standby, this will take a few minutes...\n",
            "Collecting package metadata (current_repodata.json): - \b\b\\ \b\b| \b\b/ \b\b- \b\b\\ \b\b| \b\b/ \b\b- \b\b\\ \b\b| \b\b/ \b\b- \b\b\\ \b\b| \b\b/ \b\b- \b\b\\ \b\b| \b\b/ \b\b- \b\b\\ \b\b| \b\b/ \b\b- \b\b\\ \b\b| \b\b/ \b\b- \b\b\\ \b\b| \b\b/ \b\bdone\n",
            "Solving environment: \\ \b\b| \b\b/ \b\b- \b\b\\ \b\b| \b\b/ \b\b- \b\b\\ \b\b| \b\b/ \b\b- \b\b\\ \b\b| \b\b/ \b\b- \b\b\\ \b\b| \b\b/ \b\b- \b\b\\ \b\b| \b\b/ \b\b- \b\b\\ \b\b| \b\b/ \b\b- \b\b\\ \b\b| \b\b/ \b\b- \b\b\\ \b\b| \b\b/ \b\b- \b\b\\ \b\b| \b\b/ \b\b- \b\b\\ \b\b| \b\b/ \b\b- \b\b\\ \b\b| \b\b/ \b\b- \b\b\\ \b\b| \b\b/ \b\b- \b\b\\ \b\b| \b\b/ \b\b- \b\b\\ \b\b| \b\b/ \b\b- \b\b\\ \b\b| \b\b/ \b\b- \b\b\\ \b\b| \b\b/ \b\b- \b\b\\ \b\b| \b\b/ \b\b- \b\b\\ \b\b| \b\b/ \b\b- \b\b\\ \b\b| \b\b/ \b\b- \b\b\\ \b\b| \b\b/ \b\b- \b\b\\ \b\b| \b\b/ \b\b- \b\b\\ \b\b| \b\b/ \b\b- \b\b\\ \b\b| \b\b/ \b\b- \b\b\\ \b\b| \b\b/ \b\b- \b\b\\ \b\b| \b\b/ \b\b- \b\b\\ \b\b| \b\b/ \b\bfailed with initial frozen solve. Retrying with flexible solve.\n",
            "Solving environment: \\ \b\b| \b\b/ \b\b- \b\b\\ \b\b| \b\b/ \b\b- \b\b\\ \b\b| \b\b/ \b\b- \b\b\\ \b\b| \b\b/ \b\b- \b\b\\ \b\b| \b\b/ \b\b- \b\b\\ \b\b| \b\b/ \b\b- \b\b\\ \b\b| \b\b/ \b\b- \b\b\\ \b\b| \b\b/ \b\b- \b\b\\ \b\b| \b\b/ \b\b- \b\b\\ \b\b| \b\b/ \b\b- \b\b\\ \b\b| \b\b/ \b\b- \b\b\\ \b\b| \b\b/ \b\b- \b\b\\ \b\b| \b\b/ \b\b- \b\b\\ \b\b| \b\b/ \b\b- \b\b\\ \b\b| \b\b/ \b\b- \b\b\\ \b\b| \b\b/ \b\b- \b\b\\ \b\b| \b\b/ \b\b- \b\b\\ \b\b| \b\b/ \b\b- \b\b\\ \b\b| \b\b/ \b\b- \b\b\\ \b\b| \b\b/ \b\b- \b\b\\ \b\b| \b\b/ \b\b- \b\b\\ \b\b| \b\b/ \b\b- \b\b\\ \b\b| \b\b/ \b\b- \b\b\\ \b\b| \b\b/ \b\b- \b\b\\ \b\b| \b\b/ \b\b- \b\b\\ \b\b| \b\b/ \b\b- \b\b\\ \b\b| \b\b/ \b\b- \b\b\\ \b\b| \b\b/ \b\b- \b\b\\ \b\b| \b\b/ \b\b- \b\b\\ \b\b| \b\b/ \b\b- \b\b\\ \b\b| \b\b/ \b\b- \b\b\\ \b\b| \b\b/ \b\b- \b\b\\ \b\b| \b\b/ \b\b- \b\b\\ \b\b| \b\b/ \b\b- \b\b\\ \b\b| \b\b/ \b\b- \b\b\\ \b\b| \b\b/ \b\b- \b\b\\ \b\b| \b\b/ \b\b- \b\b\\ \b\b| \b\b/ \b\b- \b\b\\ \b\b| \b\b/ \b\b- \b\b\\ \b\b| \b\b/ \b\b- \b\bfailed with repodata from current_repodata.json, will retry with next repodata source.\n",
            "Collecting package metadata (repodata.json): | \b\b/ \b\b- \b\b\\ \b\b| \b\b/ \b\b- \b\b\\ \b\b| \b\b/ \b\b- \b\b\\ \b\b| \b\b/ \b\b- \b\b\\ \b\b| \b\b/ \b\b- \b\b\\ \b\b| \b\b/ \b\b- \b\b\\ \b\b| \b\b/ \b\b- \b\b\\ \b\b| \b\b/ \b\b- \b\b\\ \b\b| \b\b/ \b\b- \b\b\\ \b\b| \b\b/ \b\b- \b\b\\ \b\b| \b\b/ \b\b- \b\b\\ \b\b| \b\b/ \b\b- \b\b\\ \b\b| \b\b/ \b\b- \b\b\\ \b\b| \b\b/ \b\b- \b\b\\ \b\b| \b\b/ \b\b- \b\b\\ \b\b| \b\b/ \b\b- \b\b\\ \b\b| \b\b/ \b\b- \b\b\\ \b\b| \b\b/ \b\b- \b\b\\ \b\b| \b\b/ \b\b- \b\b\\ \b\b| \b\b/ \b\b- \b\b\\ \b\b| \b\b/ \b\b- \b\b\\ \b\b| \b\b/ \b\b- \b\b\\ \b\b| \b\b/ \b\b- \b\b\\ \b\b| \b\b/ \b\b- \b\b\\ \b\b| \b\b/ \b\b- \b\b\\ \b\b| \b\b/ \b\b- \b\b\\ \b\b| \b\b/ \b\b- \b\b\\ \b\b| \b\b/ \b\b- \b\b\\ \b\b| \b\b/ \b\b- \b\b\\ \b\b| \b\b/ \b\b- \b\b\\ \b\b| \b\b/ \b\b- \b\b\\ \b\b| \b\b/ \b\b- \b\b\\ \b\b| \b\b/ \b\b- \b\b\\ \b\b| \b\b/ \b\b- \b\b\\ \b\b| \b\b/ \b\b- \b\b\\ \b\b| \b\b/ \b\b- \b\b\\ \b\b| \b\b/ \b\b- \b\b\\ \b\b| \b\b/ \b\b- \b\b\\ \b\b| \b\b/ \b\b- \b\b\\ \b\b| \b\b/ \b\b- \b\b\\ \b\b| \b\b/ \b\b- \b\b\\ \b\b| \b\b/ \b\b- \b\b\\ \b\b| \b\b/ \b\b- \b\b\\ \b\b| \b\b/ \b\b- \b\b\\ \b\b| \b\b/ \b\b- \b\b\\ \b\b| \b\b/ \b\b- \b\b\\ \b\b| \b\b/ \b\b- \b\b\\ \b\b| \b\b/ \b\b- \b\b\\ \b\b| \b\b/ \b\b- \b\b\\ \b\b| \b\b/ \b\b- \b\b\\ \b\b| \b\b/ \b\b- \b\b\\ \b\b| \b\b/ \b\b- \b\b\\ \b\b| \b\b/ \b\b- \b\b\\ \b\b| \b\b/ \b\b- \b\b\\ \b\b| \b\b/ \b\b- \b\b\\ \b\b| \b\b/ \b\b- \b\b\\ \b\b| \b\b/ \b\b- \b\b\\ \b\b| \b\b/ \b\b- \b\b\\ \b\bdone\n",
            "Solving environment: / \b\b- \b\b\\ \b\b| \b\b/ \b\b- \b\b\\ \b\b| \b\b/ \b\b- \b\b\\ \b\b| \b\b/ \b\b- \b\b\\ \b\b| \b\b/ \b\b- \b\b\\ \b\b| \b\b/ \b\b- \b\b\\ \b\b| \b\b/ \b\b- \b\b\\ \b\b| \b\b/ \b\b- \b\b\\ \b\b| \b\b/ \b\b- \b\b\\ \b\b| \b\b/ \b\b- \b\b\\ \b\b| \b\b/ \b\b- \b\b\\ \b\b| \b\b/ \b\b- \b\b\\ \b\b| \b\b/ \b\b- \b\b\\ \b\b| \b\b/ \b\b- \b\b\\ \b\b| \b\b/ \b\b- \b\b\\ \b\b| \b\b/ \b\b- \b\b\\ \b\b| \b\b/ \b\b- \b\b\\ \b\b| \b\b/ \b\b- \b\b\\ \b\b| \b\b/ \b\b- \b\b\\ \b\b| \b\b/ \b\b- \b\b\\ \b\b| \b\b/ \b\b- \b\b\\ \b\b| \b\b/ \b\b- \b\b\\ \b\b| \b\b/ \b\b- \b\b\\ \b\b| \b\b/ \b\b- \b\b\\ \b\b| \b\b/ \b\b- \b\b\\ \b\b| \b\b/ \b\b- \b\b\\ \b\b| \b\b/ \b\b- \b\b\\ \b\b| \b\b/ \b\b- \b\b\\ \b\b| \b\b/ \b\b- \b\b\\ \b\b| \b\b/ \b\b- \b\b\\ \b\b| \b\b/ \b\b- \b\b\\ \b\b| \b\b/ \b\b- \b\b\\ \b\b| \b\b/ \b\b- \b\b\\ \b\b| \b\b/ \b\b- \b\b\\ \b\b| \b\b/ \b\b- \b\b\\ \b\b| \b\b/ \b\b- \b\b\\ \b\b| \b\b/ \b\b- \b\b\\ \b\b| \b\b/ \b\b- \b\b\\ \b\b| \b\b/ \b\b- \b\b\\ \b\b| \b\b/ \b\b- \b\b\\ \b\b| \b\b/ \b\b- \b\b\\ \b\b| \b\b/ \b\b- \b\b\\ \b\b| \b\b/ \b\b- \b\b\\ \b\b| \b\b/ \b\b- \b\b\\ \b\b| \b\b/ \b\b- \b\b\\ \b\b| \b\b/ \b\b- \b\b\\ \b\b| \b\b/ \b\b- \b\b\\ \b\b| \b\b/ \b\b- \b\b\\ \b\b| \b\b/ \b\b- \b\b\\ \b\b| \b\b/ \b\b- \b\b\\ \b\b| \b\b/ \b\b- \b\b\\ \b\b| \b\b/ \b\b- \b\b\\ \b\b| \b\b/ \b\b- \b\b\\ \b\b| \b\b/ \b\b- \b\b\\ \b\b| \b\b/ \b\b- \b\b\\ \b\b| \b\b/ \b\b- \b\b\\ \b\b| \b\b/ \b\b- \b\b\\ \b\b| \b\b/ \b\b- \b\b\\ \b\b| \b\b/ \b\b- \b\b\\ \b\b| \b\b/ \b\b- \b\b\\ \b\b| \b\b/ \b\b- \b\b\\ \b\b| \b\b/ \b\b- \b\b\\ \b\b| \b\bdone\n",
            "\n",
            "## Package Plan ##\n",
            "\n",
            "  environment location: /usr/local\n",
            "\n",
            "  added / updated specs:\n",
            "    - cudatoolkit=10.1\n",
            "    - cudf=0.13\n",
            "    - cugraph\n",
            "    - cuml\n",
            "    - cusignal\n",
            "    - cuspatial\n",
            "    - dask-cudf\n",
            "    - gcsfs\n",
            "    - numba=0.48\n",
            "    - pynvml\n",
            "    - python=3.6\n",
            "    - xgboost=1.0.2dev.rapidsai0.13\n",
            "\n",
            "\n",
            "The following packages will be downloaded:\n",
            "\n",
            "    package                    |            build\n",
            "    ---------------------------|-----------------\n",
            "    arrow-cpp-0.15.0           |   py36h090bef1_2        18.1 MB  conda-forge\n",
            "    blinker-1.4                |             py_1          13 KB  conda-forge\n",
            "    bokeh-2.2.3                |   py36h5fab9bb_0         7.0 MB  conda-forge\n",
            "    boost-1.70.0               |   py36h9de70de_1         337 KB  conda-forge\n",
            "    boost-cpp-1.70.0           |       h8e57a91_2        21.1 MB  conda-forge\n",
            "    brotli-1.0.9               |       he1b5a44_3         395 KB  conda-forge\n",
            "    bzip2-1.0.8                |       h7f98852_4         484 KB  conda-forge\n",
            "    c-ares-1.17.1              |       h36c2ea0_0         111 KB  conda-forge\n",
            "    cachetools-4.1.1           |             py_0          12 KB  conda-forge\n",
            "    cairo-1.16.0               |    hcf35c78_1003         1.5 MB  conda-forge\n",
            "    cfitsio-3.470              |       hb418390_7         1.3 MB  conda-forge\n",
            "    click-7.1.2                |     pyh9f0ad1d_0          64 KB  conda-forge\n",
            "    cloudpickle-1.6.0          |             py_0          22 KB  conda-forge\n",
            "    contextvars-2.4            |             py_0          11 KB  conda-forge\n",
            "    cudatoolkit-10.1.243       |       h6bb024c_0       513.2 MB  nvidia\n",
            "    cudf-0.13.0                |           py36_0        32.6 MB  rapidsai\n",
            "    cudnn-7.6.0                |       cuda10.1_0       240.9 MB  nvidia\n",
            "    cugraph-0.13.0             |           py36_0         7.3 MB  rapidsai\n",
            "    cuml-0.13.0                |  cuda10.1_py36_0         9.2 MB  rapidsai\n",
            "    cupy-7.8.0                 |   py36h5c369b2_1        20.6 MB  conda-forge\n",
            "    curl-7.71.1                |       he644dc0_8         139 KB  conda-forge\n",
            "    cusignal-0.13.0            |           py36_0          67 KB  rapidsai\n",
            "    cuspatial-0.13.0           |           py36_0         1.7 MB  rapidsai\n",
            "    cytoolz-0.11.0             |   py36h1d69622_1         368 KB  conda-forge\n",
            "    dask-2020.12.0             |     pyhd8ed1ab_0           4 KB  conda-forge\n",
            "    dask-core-2020.12.0        |     pyhd8ed1ab_0         669 KB  conda-forge\n",
            "    dask-cudf-0.13.0           |           py36_0          76 KB  rapidsai\n",
            "    decorator-4.4.2            |             py_0          11 KB  conda-forge\n",
            "    distributed-2020.12.0      |   py36h5fab9bb_0         1.1 MB  conda-forge\n",
            "    dlpack-0.3                 |       he1b5a44_1          13 KB  conda-forge\n",
            "    double-conversion-3.1.5    |       he1b5a44_2          85 KB  conda-forge\n",
            "    expat-2.2.9                |       he1b5a44_2         191 KB  conda-forge\n",
            "    fastavro-1.2.1             |   py36h8f6f2f9_0         446 KB  conda-forge\n",
            "    fastrlock-0.5              |   py36h831f99a_1          31 KB  conda-forge\n",
            "    fontconfig-2.13.1          |    h86ecdb6_1001         340 KB  conda-forge\n",
            "    freetype-2.10.4            |       h7ca028e_0         912 KB  conda-forge\n",
            "    freexl-1.0.5               |    h516909a_1002          46 KB  conda-forge\n",
            "    fsspec-0.6.3               |             py_0          48 KB  conda-forge\n",
            "    gcsfs-0.6.2                |             py_0          19 KB  conda-forge\n",
            "    gdal-2.4.4                 |   py36hbb8311d_1         1.2 MB  conda-forge\n",
            "    geos-3.8.1                 |       he1b5a44_0         1.0 MB  conda-forge\n",
            "    geotiff-1.5.1              |      h05acad5_10         279 KB  conda-forge\n",
            "    gettext-0.19.8.1           |    h0b5b191_1005         3.6 MB  conda-forge\n",
            "    gflags-2.2.2               |    he1b5a44_1004         114 KB  conda-forge\n",
            "    giflib-5.2.1               |       h36c2ea0_2          77 KB  conda-forge\n",
            "    glib-2.66.4                |       hcd2ae1e_1         494 KB  conda-forge\n",
            "    glog-0.4.0                 |       h49b9bf7_3         104 KB  conda-forge\n",
            "    google-auth-1.21.3         |             py_0          56 KB  conda-forge\n",
            "    google-auth-oauthlib-0.4.2 |     pyhd8ed1ab_0          19 KB  conda-forge\n",
            "    grpc-cpp-1.23.0            |       h18db393_0         4.5 MB  conda-forge\n",
            "    hdf4-4.2.13                |    h10796ff_1004         951 KB  conda-forge\n",
            "    hdf5-1.10.5                |nompi_h5b725eb_1112         3.1 MB  conda-forge\n",
            "    heapdict-1.0.1             |             py_0           7 KB  conda-forge\n",
            "    icu-64.2                   |       he1b5a44_1        12.6 MB  conda-forge\n",
            "    immutables-0.14            |   py36h8c4c3a4_1          68 KB  conda-forge\n",
            "    jinja2-2.11.2              |     pyh9f0ad1d_0          93 KB  conda-forge\n",
            "    joblib-1.0.0               |     pyhd8ed1ab_0         206 KB  conda-forge\n",
            "    jpeg-9d                    |       h36c2ea0_0         264 KB  conda-forge\n",
            "    json-c-0.13.1              |    hbfbb72e_1002          76 KB  conda-forge\n",
            "    kealib-1.4.13              |       hec59c27_0         172 KB  conda-forge\n",
            "    krb5-1.17.2                |       h926e7f8_0         1.4 MB  conda-forge\n",
            "    lcms2-2.11                 |       hcbb858e_1         434 KB  conda-forge\n",
            "    libblas-3.9.0              |       3_openblas          11 KB  conda-forge\n",
            "    libcblas-3.9.0             |       3_openblas          11 KB  conda-forge\n",
            "    libcudf-0.13.0             |       cuda10.1_0       135.7 MB  rapidsai\n",
            "    libcugraph-0.13.0          |       cuda10.1_0        40.6 MB  rapidsai\n",
            "    libcuml-0.13.0             |       cuda10.1_0        52.4 MB  rapidsai\n",
            "    libcumlprims-0.13.0        |       cuda10.1_0         3.5 MB  nvidia\n",
            "    libcurl-7.71.1             |       hcdd3856_8         312 KB  conda-forge\n",
            "    libcuspatial-0.13.0        |       cuda10.1_0         1.7 MB  rapidsai\n",
            "    libdap4-3.20.6             |       h1d1bd15_1         7.9 MB  conda-forge\n",
            "    libedit-3.1.20191231       |       he28a2e2_2         121 KB  conda-forge\n",
            "    libev-4.33                 |       h516909a_1         104 KB  conda-forge\n",
            "    libevent-2.1.10            |       hcdb4288_3         1.1 MB  conda-forge\n",
            "    libgdal-2.4.4              |       h5439ffd_1        18.6 MB  conda-forge\n",
            "    libgfortran-ng-9.3.0       |      he4bcb1c_17          22 KB  conda-forge\n",
            "    libgfortran5-9.3.0         |      he4bcb1c_17         2.0 MB  conda-forge\n",
            "    libglib-2.66.4             |       h164308a_1         3.0 MB  conda-forge\n",
            "    libhwloc-2.1.0             |       h3c4fd83_0         2.7 MB  conda-forge\n",
            "    libiconv-1.16              |       h516909a_0         1.4 MB  conda-forge\n",
            "    libkml-1.3.0               |    h4fcabce_1010         643 KB  conda-forge\n",
            "    liblapack-3.9.0            |       3_openblas          11 KB  conda-forge\n",
            "    libllvm8-8.0.1             |       hc9558a2_0        23.2 MB  conda-forge\n",
            "    libnetcdf-4.7.4            |nompi_h9f9fd6a_101         1.3 MB  conda-forge\n",
            "    libnghttp2-1.41.0          |       h8cfc5f6_2         774 KB  conda-forge\n",
            "    libnvstrings-0.13.0        |       cuda10.1_0        30.2 MB  rapidsai\n",
            "    libopenblas-0.3.12         |pthreads_h4812303_1         8.9 MB  conda-forge\n",
            "    libpng-1.6.37              |       h21135ba_2         306 KB  conda-forge\n",
            "    libpq-12.3                 |       h255efa7_3         2.6 MB  conda-forge\n",
            "    libprotobuf-3.8.0          |       h8b12597_0         4.7 MB  conda-forge\n",
            "    librmm-0.13.0              |       cuda10.1_0          70 KB  rapidsai\n",
            "    libspatialite-4.3.0a       |    h2482549_1038         3.1 MB  conda-forge\n",
            "    libssh2-1.9.0              |       hab1572f_5         225 KB  conda-forge\n",
            "    libtiff-4.1.0              |       hc7e4089_6         668 KB  conda-forge\n",
            "    libuuid-2.32.1             |    h7f98852_1000          28 KB  conda-forge\n",
            "    libwebp-base-1.1.0         |       h36c2ea0_3         864 KB  conda-forge\n",
            "    libxcb-1.13                |    h14c3975_1002         396 KB  conda-forge\n",
            "    libxgboost-1.0.2dev.rapidsai0.13|       cuda10.1_6        21.5 MB  rapidsai\n",
            "    libxml2-2.9.10             |       hee79883_0         1.3 MB  conda-forge\n",
            "    llvmlite-0.31.0            |   py36hfa65bc7_1         325 KB  conda-forge\n",
            "    locket-0.2.0               |             py_2           6 KB  conda-forge\n",
            "    lz4-c-1.8.3                |    he1b5a44_1001         187 KB  conda-forge\n",
            "    markupsafe-1.1.1           |   py36he6145b8_2          27 KB  conda-forge\n",
            "    msgpack-python-1.0.2       |   py36h605e78d_0          91 KB  conda-forge\n",
            "    nccl-2.5.7.1               |       h51cf6c1_0        98.4 MB  conda-forge\n",
            "    numba-0.48.0               |   py36hb3f55d8_0         3.4 MB  conda-forge\n",
            "    numpy-1.19.4               |   py36h2aa4a07_2         5.3 MB  conda-forge\n",
            "    nvstrings-0.13.0           |           py36_0         129 KB  rapidsai\n",
            "    oauthlib-3.0.1             |             py_0          82 KB  conda-forge\n",
            "    olefile-0.46               |     pyh9f0ad1d_1          32 KB  conda-forge\n",
            "    openjpeg-2.3.1             |       hf7af979_3         395 KB  conda-forge\n",
            "    packaging-20.8             |     pyhd3deb0d_0          34 KB  conda-forge\n",
            "    pandas-0.25.3              |   py36hb3f55d8_0        11.4 MB  conda-forge\n",
            "    parquet-cpp-1.5.1          |                2           3 KB  conda-forge\n",
            "    partd-1.1.0                |             py_0          17 KB  conda-forge\n",
            "    pcre-8.44                  |       he1b5a44_0         261 KB  conda-forge\n",
            "    pillow-8.0.1               |   py36h10ecd5c_0         687 KB  conda-forge\n",
            "    pixman-0.38.0              |    h516909a_1003         594 KB  conda-forge\n",
            "    poppler-0.67.0             |       h14e79db_8         8.9 MB  conda-forge\n",
            "    poppler-data-0.4.10        |                0         3.8 MB  conda-forge\n",
            "    postgresql-12.3            |       hc2f5b80_3         5.0 MB  conda-forge\n",
            "    proj-7.0.0                 |       h966b41f_5         3.7 MB  conda-forge\n",
            "    psutil-5.8.0               |   py36h8f6f2f9_0         342 KB  conda-forge\n",
            "    pthread-stubs-0.4          |    h36c2ea0_1001           5 KB  conda-forge\n",
            "    py-xgboost-1.0.2dev.rapidsai0.13|   cuda10.1py36_6         100 KB  rapidsai\n",
            "    pyarrow-0.15.0             |   py36h8b68381_1         3.2 MB  conda-forge\n",
            "    pyasn1-0.4.8               |             py_0          53 KB  conda-forge\n",
            "    pyasn1-modules-0.2.7       |             py_0          60 KB  conda-forge\n",
            "    pyjwt-1.7.1                |             py_0          17 KB  conda-forge\n",
            "    pynvml-8.0.4               |             py_1          31 KB  conda-forge\n",
            "    pyparsing-2.4.7            |     pyh9f0ad1d_0          60 KB  conda-forge\n",
            "    python-3.6.12              |hffdb5ce_0_cpython        38.4 MB  conda-forge\n",
            "    python-dateutil-2.8.1      |             py_0         220 KB  conda-forge\n",
            "    pytz-2020.4                |     pyhd8ed1ab_0         229 KB  conda-forge\n",
            "    pyyaml-5.3.1               |   py36he6145b8_1         185 KB  conda-forge\n",
            "    re2-2020.04.01             |       he1b5a44_0         438 KB  conda-forge\n",
            "    requests-oauthlib-1.3.0    |     pyh9f0ad1d_0          21 KB  conda-forge\n",
            "    rmm-0.13.0                 |           py36_0         687 KB  rapidsai\n",
            "    rsa-4.6                    |     pyh9f0ad1d_0          27 KB  conda-forge\n",
            "    scikit-learn-0.23.2        |   py36hb6e6923_3         6.8 MB  conda-forge\n",
            "    scipy-1.5.3                |   py36h9e8f40b_0        19.1 MB  conda-forge\n",
            "    snappy-1.1.8               |       he1b5a44_3          32 KB  conda-forge\n",
            "    sortedcontainers-2.3.0     |     pyhd8ed1ab_0          26 KB  conda-forge\n",
            "    tblib-1.6.0                |             py_0          14 KB  conda-forge\n",
            "    threadpoolctl-2.1.0        |     pyh5ca1d4c_0          15 KB  conda-forge\n",
            "    thrift-cpp-0.12.0          |    hf3afdfd_1004         2.4 MB  conda-forge\n",
            "    toolz-0.11.1               |             py_0          46 KB  conda-forge\n",
            "    tornado-6.1                |   py36h1d69622_0         644 KB  conda-forge\n",
            "    typing_extensions-3.7.4.3  |             py_0          25 KB  conda-forge\n",
            "    tzcode-2020d               |       h7f98852_0         307 KB  conda-forge\n",
            "    ucx-1.7.0+g9d06c3a         |       cuda10.1_0         8.2 MB  rapidsai\n",
            "    ucx-py-0.13.0+g9d06c3a     |           py36_0         287 KB  rapidsai\n",
            "    uriparser-0.9.3            |       he1b5a44_1          49 KB  conda-forge\n",
            "    xerces-c-3.2.2             |    h8412b87_1004         1.7 MB  conda-forge\n",
            "    xgboost-1.0.2dev.rapidsai0.13|   cuda10.1py36_6          12 KB  rapidsai\n",
            "    xorg-kbproto-1.0.7         |    h14c3975_1002          26 KB  conda-forge\n",
            "    xorg-libice-1.0.10         |       h516909a_0          57 KB  conda-forge\n",
            "    xorg-libsm-1.2.3           |    h84519dc_1000          25 KB  conda-forge\n",
            "    xorg-libx11-1.6.12         |       h516909a_0         917 KB  conda-forge\n",
            "    xorg-libxau-1.0.9          |       h14c3975_0          13 KB  conda-forge\n",
            "    xorg-libxdmcp-1.1.3        |       h516909a_0          18 KB  conda-forge\n",
            "    xorg-libxext-1.3.4         |       h516909a_0          51 KB  conda-forge\n",
            "    xorg-libxrender-0.9.10     |    h516909a_1002          31 KB  conda-forge\n",
            "    xorg-renderproto-0.11.1    |    h14c3975_1002           8 KB  conda-forge\n",
            "    xorg-xextproto-7.3.0       |    h14c3975_1002          27 KB  conda-forge\n",
            "    xorg-xproto-7.0.31         |    h7f98852_1007          73 KB  conda-forge\n",
            "    zict-2.0.0                 |             py_0          10 KB  conda-forge\n",
            "    zstd-1.4.4                 |       h3b9ef0a_2         982 KB  conda-forge\n",
            "    ------------------------------------------------------------\n",
            "                                           Total:        1.48 GB\n",
            "\n",
            "The following NEW packages will be INSTALLED:\n",
            "\n",
            "  arrow-cpp          conda-forge/linux-64::arrow-cpp-0.15.0-py36h090bef1_2\n",
            "  blinker            conda-forge/noarch::blinker-1.4-py_1\n",
            "  bokeh              conda-forge/linux-64::bokeh-2.2.3-py36h5fab9bb_0\n",
            "  boost              conda-forge/linux-64::boost-1.70.0-py36h9de70de_1\n",
            "  boost-cpp          conda-forge/linux-64::boost-cpp-1.70.0-h8e57a91_2\n",
            "  brotli             conda-forge/linux-64::brotli-1.0.9-he1b5a44_3\n",
            "  bzip2              conda-forge/linux-64::bzip2-1.0.8-h7f98852_4\n",
            "  c-ares             conda-forge/linux-64::c-ares-1.17.1-h36c2ea0_0\n",
            "  cachetools         conda-forge/noarch::cachetools-4.1.1-py_0\n",
            "  cairo              conda-forge/linux-64::cairo-1.16.0-hcf35c78_1003\n",
            "  cfitsio            conda-forge/linux-64::cfitsio-3.470-hb418390_7\n",
            "  click              conda-forge/noarch::click-7.1.2-pyh9f0ad1d_0\n",
            "  cloudpickle        conda-forge/noarch::cloudpickle-1.6.0-py_0\n",
            "  contextvars        conda-forge/noarch::contextvars-2.4-py_0\n",
            "  cudatoolkit        nvidia/linux-64::cudatoolkit-10.1.243-h6bb024c_0\n",
            "  cudf               rapidsai/linux-64::cudf-0.13.0-py36_0\n",
            "  cudnn              nvidia/linux-64::cudnn-7.6.0-cuda10.1_0\n",
            "  cugraph            rapidsai/linux-64::cugraph-0.13.0-py36_0\n",
            "  cuml               rapidsai/linux-64::cuml-0.13.0-cuda10.1_py36_0\n",
            "  cupy               conda-forge/linux-64::cupy-7.8.0-py36h5c369b2_1\n",
            "  curl               conda-forge/linux-64::curl-7.71.1-he644dc0_8\n",
            "  cusignal           rapidsai/noarch::cusignal-0.13.0-py36_0\n",
            "  cuspatial          rapidsai/linux-64::cuspatial-0.13.0-py36_0\n",
            "  cytoolz            conda-forge/linux-64::cytoolz-0.11.0-py36h1d69622_1\n",
            "  dask               conda-forge/noarch::dask-2020.12.0-pyhd8ed1ab_0\n",
            "  dask-core          conda-forge/noarch::dask-core-2020.12.0-pyhd8ed1ab_0\n",
            "  dask-cudf          rapidsai/linux-64::dask-cudf-0.13.0-py36_0\n",
            "  decorator          conda-forge/noarch::decorator-4.4.2-py_0\n",
            "  distributed        conda-forge/linux-64::distributed-2020.12.0-py36h5fab9bb_0\n",
            "  dlpack             conda-forge/linux-64::dlpack-0.3-he1b5a44_1\n",
            "  double-conversion  conda-forge/linux-64::double-conversion-3.1.5-he1b5a44_2\n",
            "  expat              conda-forge/linux-64::expat-2.2.9-he1b5a44_2\n",
            "  fastavro           conda-forge/linux-64::fastavro-1.2.1-py36h8f6f2f9_0\n",
            "  fastrlock          conda-forge/linux-64::fastrlock-0.5-py36h831f99a_1\n",
            "  fontconfig         conda-forge/linux-64::fontconfig-2.13.1-h86ecdb6_1001\n",
            "  freetype           conda-forge/linux-64::freetype-2.10.4-h7ca028e_0\n",
            "  freexl             conda-forge/linux-64::freexl-1.0.5-h516909a_1002\n",
            "  fsspec             conda-forge/noarch::fsspec-0.6.3-py_0\n",
            "  gcsfs              conda-forge/noarch::gcsfs-0.6.2-py_0\n",
            "  gdal               conda-forge/linux-64::gdal-2.4.4-py36hbb8311d_1\n",
            "  geos               conda-forge/linux-64::geos-3.8.1-he1b5a44_0\n",
            "  geotiff            conda-forge/linux-64::geotiff-1.5.1-h05acad5_10\n",
            "  gettext            conda-forge/linux-64::gettext-0.19.8.1-h0b5b191_1005\n",
            "  gflags             conda-forge/linux-64::gflags-2.2.2-he1b5a44_1004\n",
            "  giflib             conda-forge/linux-64::giflib-5.2.1-h36c2ea0_2\n",
            "  glib               conda-forge/linux-64::glib-2.66.4-hcd2ae1e_1\n",
            "  glog               conda-forge/linux-64::glog-0.4.0-h49b9bf7_3\n",
            "  google-auth        conda-forge/noarch::google-auth-1.21.3-py_0\n",
            "  google-auth-oauth~ conda-forge/noarch::google-auth-oauthlib-0.4.2-pyhd8ed1ab_0\n",
            "  grpc-cpp           conda-forge/linux-64::grpc-cpp-1.23.0-h18db393_0\n",
            "  hdf4               conda-forge/linux-64::hdf4-4.2.13-h10796ff_1004\n",
            "  hdf5               conda-forge/linux-64::hdf5-1.10.5-nompi_h5b725eb_1112\n",
            "  heapdict           conda-forge/noarch::heapdict-1.0.1-py_0\n",
            "  icu                conda-forge/linux-64::icu-64.2-he1b5a44_1\n",
            "  immutables         conda-forge/linux-64::immutables-0.14-py36h8c4c3a4_1\n",
            "  jinja2             conda-forge/noarch::jinja2-2.11.2-pyh9f0ad1d_0\n",
            "  joblib             conda-forge/noarch::joblib-1.0.0-pyhd8ed1ab_0\n",
            "  jpeg               conda-forge/linux-64::jpeg-9d-h36c2ea0_0\n",
            "  json-c             conda-forge/linux-64::json-c-0.13.1-hbfbb72e_1002\n",
            "  kealib             conda-forge/linux-64::kealib-1.4.13-hec59c27_0\n",
            "  krb5               conda-forge/linux-64::krb5-1.17.2-h926e7f8_0\n",
            "  lcms2              conda-forge/linux-64::lcms2-2.11-hcbb858e_1\n",
            "  libblas            conda-forge/linux-64::libblas-3.9.0-3_openblas\n",
            "  libcblas           conda-forge/linux-64::libcblas-3.9.0-3_openblas\n",
            "  libcudf            rapidsai/linux-64::libcudf-0.13.0-cuda10.1_0\n",
            "  libcugraph         rapidsai/linux-64::libcugraph-0.13.0-cuda10.1_0\n",
            "  libcuml            rapidsai/linux-64::libcuml-0.13.0-cuda10.1_0\n",
            "  libcumlprims       nvidia/linux-64::libcumlprims-0.13.0-cuda10.1_0\n",
            "  libcurl            conda-forge/linux-64::libcurl-7.71.1-hcdd3856_8\n",
            "  libcuspatial       rapidsai/linux-64::libcuspatial-0.13.0-cuda10.1_0\n",
            "  libdap4            conda-forge/linux-64::libdap4-3.20.6-h1d1bd15_1\n",
            "  libedit            conda-forge/linux-64::libedit-3.1.20191231-he28a2e2_2\n",
            "  libev              conda-forge/linux-64::libev-4.33-h516909a_1\n",
            "  libevent           conda-forge/linux-64::libevent-2.1.10-hcdb4288_3\n",
            "  libgdal            conda-forge/linux-64::libgdal-2.4.4-h5439ffd_1\n",
            "  libgfortran-ng     conda-forge/linux-64::libgfortran-ng-9.3.0-he4bcb1c_17\n",
            "  libgfortran5       conda-forge/linux-64::libgfortran5-9.3.0-he4bcb1c_17\n",
            "  libglib            conda-forge/linux-64::libglib-2.66.4-h164308a_1\n",
            "  libhwloc           conda-forge/linux-64::libhwloc-2.1.0-h3c4fd83_0\n",
            "  libiconv           conda-forge/linux-64::libiconv-1.16-h516909a_0\n",
            "  libkml             conda-forge/linux-64::libkml-1.3.0-h4fcabce_1010\n",
            "  liblapack          conda-forge/linux-64::liblapack-3.9.0-3_openblas\n",
            "  libllvm8           conda-forge/linux-64::libllvm8-8.0.1-hc9558a2_0\n",
            "  libnetcdf          conda-forge/linux-64::libnetcdf-4.7.4-nompi_h9f9fd6a_101\n",
            "  libnghttp2         conda-forge/linux-64::libnghttp2-1.41.0-h8cfc5f6_2\n",
            "  libnvstrings       rapidsai/linux-64::libnvstrings-0.13.0-cuda10.1_0\n",
            "  libopenblas        conda-forge/linux-64::libopenblas-0.3.12-pthreads_h4812303_1\n",
            "  libpng             conda-forge/linux-64::libpng-1.6.37-h21135ba_2\n",
            "  libpq              conda-forge/linux-64::libpq-12.3-h255efa7_3\n",
            "  libprotobuf        conda-forge/linux-64::libprotobuf-3.8.0-h8b12597_0\n",
            "  librmm             rapidsai/linux-64::librmm-0.13.0-cuda10.1_0\n",
            "  libspatialite      conda-forge/linux-64::libspatialite-4.3.0a-h2482549_1038\n",
            "  libssh2            conda-forge/linux-64::libssh2-1.9.0-hab1572f_5\n",
            "  libtiff            conda-forge/linux-64::libtiff-4.1.0-hc7e4089_6\n",
            "  libuuid            conda-forge/linux-64::libuuid-2.32.1-h7f98852_1000\n",
            "  libwebp-base       conda-forge/linux-64::libwebp-base-1.1.0-h36c2ea0_3\n",
            "  libxcb             conda-forge/linux-64::libxcb-1.13-h14c3975_1002\n",
            "  libxgboost         rapidsai/linux-64::libxgboost-1.0.2dev.rapidsai0.13-cuda10.1_6\n",
            "  libxml2            conda-forge/linux-64::libxml2-2.9.10-hee79883_0\n",
            "  llvmlite           conda-forge/linux-64::llvmlite-0.31.0-py36hfa65bc7_1\n",
            "  locket             conda-forge/noarch::locket-0.2.0-py_2\n",
            "  lz4-c              conda-forge/linux-64::lz4-c-1.8.3-he1b5a44_1001\n",
            "  markupsafe         conda-forge/linux-64::markupsafe-1.1.1-py36he6145b8_2\n",
            "  msgpack-python     conda-forge/linux-64::msgpack-python-1.0.2-py36h605e78d_0\n",
            "  nccl               conda-forge/linux-64::nccl-2.5.7.1-h51cf6c1_0\n",
            "  numba              conda-forge/linux-64::numba-0.48.0-py36hb3f55d8_0\n",
            "  numpy              conda-forge/linux-64::numpy-1.19.4-py36h2aa4a07_2\n",
            "  nvstrings          rapidsai/linux-64::nvstrings-0.13.0-py36_0\n",
            "  oauthlib           conda-forge/noarch::oauthlib-3.0.1-py_0\n",
            "  olefile            conda-forge/noarch::olefile-0.46-pyh9f0ad1d_1\n",
            "  openjpeg           conda-forge/linux-64::openjpeg-2.3.1-hf7af979_3\n",
            "  packaging          conda-forge/noarch::packaging-20.8-pyhd3deb0d_0\n",
            "  pandas             conda-forge/linux-64::pandas-0.25.3-py36hb3f55d8_0\n",
            "  parquet-cpp        conda-forge/noarch::parquet-cpp-1.5.1-2\n",
            "  partd              conda-forge/noarch::partd-1.1.0-py_0\n",
            "  pcre               conda-forge/linux-64::pcre-8.44-he1b5a44_0\n",
            "  pillow             conda-forge/linux-64::pillow-8.0.1-py36h10ecd5c_0\n",
            "  pixman             conda-forge/linux-64::pixman-0.38.0-h516909a_1003\n",
            "  poppler            conda-forge/linux-64::poppler-0.67.0-h14e79db_8\n",
            "  poppler-data       conda-forge/noarch::poppler-data-0.4.10-0\n",
            "  postgresql         conda-forge/linux-64::postgresql-12.3-hc2f5b80_3\n",
            "  proj               conda-forge/linux-64::proj-7.0.0-h966b41f_5\n",
            "  psutil             conda-forge/linux-64::psutil-5.8.0-py36h8f6f2f9_0\n",
            "  pthread-stubs      conda-forge/linux-64::pthread-stubs-0.4-h36c2ea0_1001\n",
            "  py-xgboost         rapidsai/linux-64::py-xgboost-1.0.2dev.rapidsai0.13-cuda10.1py36_6\n",
            "  pyarrow            conda-forge/linux-64::pyarrow-0.15.0-py36h8b68381_1\n",
            "  pyasn1             conda-forge/noarch::pyasn1-0.4.8-py_0\n",
            "  pyasn1-modules     conda-forge/noarch::pyasn1-modules-0.2.7-py_0\n",
            "  pyjwt              conda-forge/noarch::pyjwt-1.7.1-py_0\n",
            "  pynvml             conda-forge/noarch::pynvml-8.0.4-py_1\n",
            "  pyparsing          conda-forge/noarch::pyparsing-2.4.7-pyh9f0ad1d_0\n",
            "  python-dateutil    conda-forge/noarch::python-dateutil-2.8.1-py_0\n",
            "  pytz               conda-forge/noarch::pytz-2020.4-pyhd8ed1ab_0\n",
            "  pyyaml             conda-forge/linux-64::pyyaml-5.3.1-py36he6145b8_1\n",
            "  re2                conda-forge/linux-64::re2-2020.04.01-he1b5a44_0\n",
            "  requests-oauthlib  conda-forge/noarch::requests-oauthlib-1.3.0-pyh9f0ad1d_0\n",
            "  rmm                rapidsai/linux-64::rmm-0.13.0-py36_0\n",
            "  rsa                conda-forge/noarch::rsa-4.6-pyh9f0ad1d_0\n",
            "  scikit-learn       conda-forge/linux-64::scikit-learn-0.23.2-py36hb6e6923_3\n",
            "  scipy              conda-forge/linux-64::scipy-1.5.3-py36h9e8f40b_0\n",
            "  snappy             conda-forge/linux-64::snappy-1.1.8-he1b5a44_3\n",
            "  sortedcontainers   conda-forge/noarch::sortedcontainers-2.3.0-pyhd8ed1ab_0\n",
            "  tblib              conda-forge/noarch::tblib-1.6.0-py_0\n",
            "  threadpoolctl      conda-forge/noarch::threadpoolctl-2.1.0-pyh5ca1d4c_0\n",
            "  thrift-cpp         conda-forge/linux-64::thrift-cpp-0.12.0-hf3afdfd_1004\n",
            "  toolz              conda-forge/noarch::toolz-0.11.1-py_0\n",
            "  tornado            conda-forge/linux-64::tornado-6.1-py36h1d69622_0\n",
            "  typing_extensions  conda-forge/noarch::typing_extensions-3.7.4.3-py_0\n",
            "  tzcode             conda-forge/linux-64::tzcode-2020d-h7f98852_0\n",
            "  ucx                rapidsai/linux-64::ucx-1.7.0+g9d06c3a-cuda10.1_0\n",
            "  ucx-py             rapidsai/linux-64::ucx-py-0.13.0+g9d06c3a-py36_0\n",
            "  uriparser          conda-forge/linux-64::uriparser-0.9.3-he1b5a44_1\n",
            "  xerces-c           conda-forge/linux-64::xerces-c-3.2.2-h8412b87_1004\n",
            "  xgboost            rapidsai/linux-64::xgboost-1.0.2dev.rapidsai0.13-cuda10.1py36_6\n",
            "  xorg-kbproto       conda-forge/linux-64::xorg-kbproto-1.0.7-h14c3975_1002\n",
            "  xorg-libice        conda-forge/linux-64::xorg-libice-1.0.10-h516909a_0\n",
            "  xorg-libsm         conda-forge/linux-64::xorg-libsm-1.2.3-h84519dc_1000\n",
            "  xorg-libx11        conda-forge/linux-64::xorg-libx11-1.6.12-h516909a_0\n",
            "  xorg-libxau        conda-forge/linux-64::xorg-libxau-1.0.9-h14c3975_0\n",
            "  xorg-libxdmcp      conda-forge/linux-64::xorg-libxdmcp-1.1.3-h516909a_0\n",
            "  xorg-libxext       conda-forge/linux-64::xorg-libxext-1.3.4-h516909a_0\n",
            "  xorg-libxrender    conda-forge/linux-64::xorg-libxrender-0.9.10-h516909a_1002\n",
            "  xorg-renderproto   conda-forge/linux-64::xorg-renderproto-0.11.1-h14c3975_1002\n",
            "  xorg-xextproto     conda-forge/linux-64::xorg-xextproto-7.3.0-h14c3975_1002\n",
            "  xorg-xproto        conda-forge/linux-64::xorg-xproto-7.0.31-h7f98852_1007\n",
            "  zict               conda-forge/noarch::zict-2.0.0-py_0\n",
            "  zstd               conda-forge/linux-64::zstd-1.4.4-h3b9ef0a_2\n",
            "\n",
            "The following packages will be SUPERSEDED by a higher-priority channel:\n",
            "\n",
            "  python                pkgs/main::python-3.6.12-hcff3b4d_2 --> conda-forge::python-3.6.12-hffdb5ce_0_cpython\n",
            "\n",
            "\n",
            "\n",
            "Downloading and Extracting Packages\n",
            "libcuspatial-0.13.0  | 1.7 MB    | : 100% 1.0/1 [00:00<00:00,  2.25it/s]\n",
            "rsa-4.6              | 27 KB     | : 100% 1.0/1 [00:00<00:00, 36.69it/s]\n",
            "c-ares-1.17.1        | 111 KB    | : 100% 1.0/1 [00:00<00:00, 21.53it/s]\n",
            "uriparser-0.9.3      | 49 KB     | : 100% 1.0/1 [00:00<00:00, 28.19it/s]\n",
            "glog-0.4.0           | 104 KB    | : 100% 1.0/1 [00:00<00:00, 22.36it/s]\n",
            "librmm-0.13.0        | 70 KB     | : 100% 1.0/1 [00:00<00:00,  3.93it/s]                \n",
            "libpng-1.6.37        | 306 KB    | : 100% 1.0/1 [00:00<00:00, 13.48it/s]\n",
            "click-7.1.2          | 64 KB     | : 100% 1.0/1 [00:00<00:00, 24.44it/s]\n",
            "poppler-0.67.0       | 8.9 MB    | : 100% 1.0/1 [00:01<00:00,  1.25s/it]\n",
            "xorg-libxau-1.0.9    | 13 KB     | : 100% 1.0/1 [00:00<00:00, 29.69it/s]\n",
            "pyasn1-0.4.8         | 53 KB     | : 100% 1.0/1 [00:00<00:00, 20.53it/s]\n",
            "dask-cudf-0.13.0     | 76 KB     | : 100% 1.0/1 [00:00<00:00,  4.82it/s]               \n",
            "hdf4-4.2.13          | 951 KB    | : 100% 1.0/1 [00:00<00:00,  4.94it/s]\n",
            "postgresql-12.3      | 5.0 MB    | : 100% 1.0/1 [00:00<00:00,  1.27it/s]\n",
            "libdap4-3.20.6       | 7.9 MB    | : 100% 1.0/1 [00:01<00:00,  1.14s/it]\n",
            "gdal-2.4.4           | 1.2 MB    | : 100% 1.0/1 [00:00<00:00,  4.36it/s]\n",
            "xorg-libx11-1.6.12   | 917 KB    | : 100% 1.0/1 [00:00<00:00,  3.39it/s]\n",
            "libiconv-1.16        | 1.4 MB    | : 100% 1.0/1 [00:00<00:00,  5.56it/s]\n",
            "tzcode-2020d         | 307 KB    | : 100% 1.0/1 [00:00<00:00,  3.84it/s]\n",
            "nvstrings-0.13.0     | 129 KB    | : 100% 1.0/1 [00:00<00:00,  5.16it/s]                \n",
            "libcugraph-0.13.0    | 40.6 MB   | : 100% 1.0/1 [00:06<00:00,  6.98s/it]                \n",
            "tornado-6.1          | 644 KB    | : 100% 1.0/1 [00:00<00:00,  6.35it/s]\n",
            "sortedcontainers-2.3 | 26 KB     | : 100% 1.0/1 [00:00<00:00, 42.55it/s]\n",
            "freetype-2.10.4      | 912 KB    | : 100% 1.0/1 [00:00<00:00,  6.16it/s]\n",
            "libpq-12.3           | 2.6 MB    | : 100% 1.0/1 [00:00<00:00,  2.05it/s]\n",
            "markupsafe-1.1.1     | 27 KB     | : 100% 1.0/1 [00:00<00:00, 30.63it/s]\n",
            "snappy-1.1.8         | 32 KB     | : 100% 1.0/1 [00:00<00:00, 37.24it/s]\n",
            "cupy-7.8.0           | 20.6 MB   | : 100% 1.0/1 [00:02<00:00,  2.96s/it]               \n",
            "pytz-2020.4          | 229 KB    | : 100% 1.0/1 [00:00<00:00,  9.94it/s]\n",
            "liblapack-3.9.0      | 11 KB     | : 100% 1.0/1 [00:00<00:00, 36.11it/s]\n",
            "boost-1.70.0         | 337 KB    | : 100% 1.0/1 [00:00<00:00,  9.75it/s]\n",
            "pyjwt-1.7.1          | 17 KB     | : 100% 1.0/1 [00:00<00:00, 41.64it/s]\n",
            "libxcb-1.13          | 396 KB    | : 100% 1.0/1 [00:00<00:00,  8.41it/s]\n",
            "libcblas-3.9.0       | 11 KB     | : 100% 1.0/1 [00:00<00:00, 35.13it/s]\n",
            "dask-core-2020.12.0  | 669 KB    | : 100% 1.0/1 [00:00<00:00,  5.50it/s]\n",
            "libkml-1.3.0         | 643 KB    | : 100% 1.0/1 [00:00<00:00,  6.35it/s]\n",
            "cairo-1.16.0         | 1.5 MB    | : 100% 1.0/1 [00:00<00:00,  3.53it/s]\n",
            "geos-3.8.1           | 1.0 MB    | : 100% 1.0/1 [00:00<00:00,  4.17it/s]\n",
            "dask-2020.12.0       | 4 KB      | : 100% 1.0/1 [00:00<00:00, 47.04it/s]\n",
            "proj-7.0.0           | 3.7 MB    | : 100% 1.0/1 [00:00<00:00,  1.40it/s]\n",
            "olefile-0.46         | 32 KB     | : 100% 1.0/1 [00:00<00:00, 34.77it/s]\n",
            "libssh2-1.9.0        | 225 KB    | : 100% 1.0/1 [00:00<00:00, 13.01it/s]\n",
            "xorg-libxext-1.3.4   | 51 KB     | : 100% 1.0/1 [00:00<00:00, 32.67it/s]\n",
            "libspatialite-4.3.0a | 3.1 MB    | : 100% 1.0/1 [00:00<00:00,  1.92it/s]\n",
            "libgfortran5-9.3.0   | 2.0 MB    | : 100% 1.0/1 [00:00<00:00,  2.18it/s]\n",
            "fastrlock-0.5        | 31 KB     | : 100% 1.0/1 [00:00<00:00, 16.51it/s]\n",
            "nccl-2.5.7.1         | 98.4 MB   | : 100% 1.0/1 [00:11<00:00, 11.92s/it]               \n",
            "libxgboost-1.0.2dev. | 21.5 MB   | : 100% 1.0/1 [00:04<00:00,  4.62s/it]                \n",
            "thrift-cpp-0.12.0    | 2.4 MB    | : 100% 1.0/1 [00:00<00:00,  2.25it/s]\n",
            "xorg-xproto-7.0.31   | 73 KB     | : 100% 1.0/1 [00:00<00:00, 28.06it/s]\n",
            "libnghttp2-1.41.0    | 774 KB    | : 100% 1.0/1 [00:00<00:00,  6.90it/s]\n",
            "gettext-0.19.8.1     | 3.6 MB    | : 100% 1.0/1 [00:00<00:00,  1.38it/s]\n",
            "numba-0.48.0         | 3.4 MB    | : 100% 1.0/1 [00:00<00:00,  1.28it/s]\n",
            "xorg-kbproto-1.0.7   | 26 KB     | : 100% 1.0/1 [00:00<00:00, 36.57it/s]\n",
            "kealib-1.4.13        | 172 KB    | : 100% 1.0/1 [00:00<00:00, 19.55it/s]\n",
            "pillow-8.0.1         | 687 KB    | : 100% 1.0/1 [00:00<00:00,  7.81it/s]\n",
            "cuspatial-0.13.0     | 1.7 MB    | : 100% 1.0/1 [00:00<00:00,  2.15it/s]\n",
            "pthread-stubs-0.4    | 5 KB      | : 100% 1.0/1 [00:00<00:00, 48.04it/s]\n",
            "geotiff-1.5.1        | 279 KB    | : 100% 1.0/1 [00:00<00:00, 13.91it/s]\n",
            "gcsfs-0.6.2          | 19 KB     | : 100% 1.0/1 [00:00<00:00, 37.07it/s]\n",
            "libtiff-4.1.0        | 668 KB    | : 100% 1.0/1 [00:00<00:00,  7.74it/s]\n",
            "pyyaml-5.3.1         | 185 KB    | : 100% 1.0/1 [00:00<00:00, 19.73it/s]\n",
            "google-auth-1.21.3   | 56 KB     | : 100% 1.0/1 [00:00<00:00, 24.08it/s]\n",
            "curl-7.71.1          | 139 KB    | : 100% 1.0/1 [00:00<00:00, 24.00it/s]\n",
            "jpeg-9d              | 264 KB    | : 100% 1.0/1 [00:00<00:00, 15.23it/s]\n",
            "ucx-1.7.0+g9d06c3a   | 8.2 MB    | : 100% 1.0/1 [00:01<00:00,  1.32s/it]\n",
            "xorg-xextproto-7.3.0 | 27 KB     | : 100% 1.0/1 [00:00<00:00, 31.20it/s]\n",
            "scipy-1.5.3          | 19.1 MB   | : 100% 1.0/1 [00:02<00:00,  2.97s/it]\n",
            "immutables-0.14      | 68 KB     | : 100% 1.0/1 [00:00<00:00, 26.11it/s]\n",
            "pandas-0.25.3        | 11.4 MB   | : 100% 1.0/1 [00:02<00:00,  2.14s/it]               \n",
            "joblib-1.0.0         | 206 KB    | : 100% 1.0/1 [00:00<00:00, 14.63it/s]\n",
            "cachetools-4.1.1     | 12 KB     | : 100% 1.0/1 [00:00<00:00, 37.00it/s]\n",
            "libgdal-2.4.4        | 18.6 MB   | : 100% 1.0/1 [00:03<00:00,  3.20s/it]\n",
            "requests-oauthlib-1. | 21 KB     | : 100% 1.0/1 [00:00<00:00, 34.25it/s]\n",
            "parquet-cpp-1.5.1    | 3 KB      | : 100% 1.0/1 [00:00<00:00, 45.81it/s]\n",
            "json-c-0.13.1        | 76 KB     | : 100% 1.0/1 [00:00<00:00, 26.92it/s]\n",
            "libllvm8-8.0.1       | 23.2 MB   | : 100% 1.0/1 [00:03<00:00,  3.69s/it]             \n",
            "hdf5-1.10.5          | 3.1 MB    | : 100% 1.0/1 [00:00<00:00,  2.23it/s]\n",
            "libprotobuf-3.8.0    | 4.7 MB    | : 100% 1.0/1 [00:00<00:00,  1.14it/s]\n",
            "libnvstrings-0.13.0  | 30.2 MB   | : 100% 1.0/1 [00:06<00:00,  6.31s/it] \n",
            "libhwloc-2.1.0       | 2.7 MB    | : 100% 1.0/1 [00:00<00:00,  2.79it/s]\n",
            "expat-2.2.9          | 191 KB    | : 100% 1.0/1 [00:00<00:00, 20.40it/s]\n",
            "xorg-libxdmcp-1.1.3  | 18 KB     | : 100% 1.0/1 [00:00<00:00, 36.74it/s]\n",
            "xorg-libsm-1.2.3     | 25 KB     | : 100% 1.0/1 [00:00<00:00, 26.96it/s]\n",
            "arrow-cpp-0.15.0     | 18.1 MB   | : 100% 1.0/1 [00:02<00:00,  2.86s/it]\n",
            "pixman-0.38.0        | 594 KB    | : 100% 1.0/1 [00:00<00:00,  8.67it/s]\n",
            "libedit-3.1.20191231 | 121 KB    | : 100% 1.0/1 [00:00<00:00, 23.96it/s]\n",
            "zstd-1.4.4           | 982 KB    | : 100% 1.0/1 [00:00<00:00,  6.11it/s]\n",
            "threadpoolctl-2.1.0  | 15 KB     | : 100% 1.0/1 [00:00<00:00, 44.82it/s]\n",
            "python-dateutil-2.8. | 220 KB    | : 100% 1.0/1 [00:00<00:00, 22.56it/s]\n",
            "re2-2020.04.01       | 438 KB    | : 100% 1.0/1 [00:00<00:00, 11.13it/s]\n",
            "xorg-libxrender-0.9. | 31 KB     | : 100% 1.0/1 [00:00<00:00, 35.45it/s]\n",
            "partd-1.1.0          | 17 KB     | : 100% 1.0/1 [00:00<00:00, 40.61it/s]\n",
            "libwebp-base-1.1.0   | 864 KB    | : 100% 1.0/1 [00:00<00:00,  6.78it/s]\n",
            "xerces-c-3.2.2       | 1.7 MB    | : 100% 1.0/1 [00:00<00:00,  2.53it/s]\n",
            "google-auth-oauthlib | 19 KB     | : 100% 1.0/1 [00:00<00:00, 24.93it/s]\n",
            "cudatoolkit-10.1.243 | 513.2 MB  | : 100% 1.0/1 [01:00<00:00, 60.61s/it]\n",
            "bzip2-1.0.8          | 484 KB    | : 100% 1.0/1 [00:00<00:00,  9.69it/s]\n",
            "krb5-1.17.2          | 1.4 MB    | : 100% 1.0/1 [00:00<00:00,  3.27it/s]\n",
            "xorg-renderproto-0.1 | 8 KB      | : 100% 1.0/1 [00:00<00:00, 44.34it/s]\n",
            "cudnn-7.6.0          | 240.9 MB  | : 100% 1.0/1 [00:30<00:00, 30.82s/it]\n",
            "dlpack-0.3           | 13 KB     | : 100% 1.0/1 [00:00<00:00, 30.97it/s]\n",
            "tblib-1.6.0          | 14 KB     | : 100% 1.0/1 [00:00<00:00, 37.24it/s]\n",
            "scikit-learn-0.23.2  | 6.8 MB    | : 100% 1.0/1 [00:01<00:00,  1.29s/it]\n",
            "poppler-data-0.4.10  | 3.8 MB    | : 100% 1.0/1 [00:00<00:00,  1.76it/s]\n",
            "libuuid-2.32.1       | 28 KB     | : 100% 1.0/1 [00:00<00:00, 27.87it/s]\n",
            "fontconfig-2.13.1    | 340 KB    | : 100% 1.0/1 [00:00<00:00, 12.27it/s]\n",
            "pyasn1-modules-0.2.7 | 60 KB     | : 100% 1.0/1 [00:00<00:00, 22.37it/s]\n",
            "cuml-0.13.0          | 9.2 MB    | : 100% 1.0/1 [00:01<00:00,  1.71s/it]\n",
            "libxml2-2.9.10       | 1.3 MB    | : 100% 1.0/1 [00:00<00:00,  2.80it/s]\n",
            "double-conversion-3. | 85 KB     | : 100% 1.0/1 [00:00<00:00, 27.87it/s]\n",
            "libblas-3.9.0        | 11 KB     | : 100% 1.0/1 [00:00<00:00, 42.21it/s]\n",
            "cytoolz-0.11.0       | 368 KB    | : 100% 1.0/1 [00:00<00:00, 11.17it/s]\n",
            "glib-2.66.4          | 494 KB    | : 100% 1.0/1 [00:00<00:00,  6.91it/s]\n",
            "gflags-2.2.2         | 114 KB    | : 100% 1.0/1 [00:00<00:00, 23.16it/s]\n",
            "fastavro-1.2.1       | 446 KB    | : 100% 1.0/1 [00:00<00:00, 10.24it/s]\n",
            "numpy-1.19.4         | 5.3 MB    | : 100% 1.0/1 [00:01<00:00,  1.02s/it]\n",
            "libopenblas-0.3.12   | 8.9 MB    | : 100% 1.0/1 [00:01<00:00,  1.43s/it]\n",
            "distributed-2020.12. | 1.1 MB    | : 100% 1.0/1 [00:00<00:00,  3.46it/s]\n",
            "rmm-0.13.0           | 687 KB    | : 100% 1.0/1 [00:00<00:00,  4.71it/s]                \n",
            "cugraph-0.13.0       | 7.3 MB    | : 100% 1.0/1 [00:01<00:00,  1.29s/it]\n",
            "xgboost-1.0.2dev.rap | 12 KB     | : 100% 1.0/1 [00:00<00:00,  9.95it/s]\n",
            "msgpack-python-1.0.2 | 91 KB     | : 100% 1.0/1 [00:00<00:00, 22.47it/s]\n",
            "pyarrow-0.15.0       | 3.2 MB    | : 100% 1.0/1 [00:00<00:00,  1.27it/s]\n",
            "libgfortran-ng-9.3.0 | 22 KB     | : 100% 1.0/1 [00:00<00:00, 36.57it/s]\n",
            "freexl-1.0.5         | 46 KB     | : 100% 1.0/1 [00:00<00:00, 30.39it/s]\n",
            "icu-64.2             | 12.6 MB   | : 100% 1.0/1 [00:01<00:00,  1.78s/it]               \n",
            "xorg-libice-1.0.10   | 57 KB     | : 100% 1.0/1 [00:00<00:00, 28.96it/s]\n",
            "libcumlprims-0.13.0  | 3.5 MB    | : 100% 1.0/1 [00:00<00:00,  1.04it/s]\n",
            "psutil-5.8.0         | 342 KB    | : 100% 1.0/1 [00:00<00:00, 11.08it/s]\n",
            "ucx-py-0.13.0+g9d06c | 287 KB    | : 100% 1.0/1 [00:00<00:00,  6.09it/s]                \n",
            "llvmlite-0.31.0      | 325 KB    | : 100% 1.0/1 [00:00<00:00, 12.01it/s]\n",
            "cusignal-0.13.0      | 67 KB     | : 100% 1.0/1 [00:00<00:00,  4.54it/s]               \n",
            "libglib-2.66.4       | 3.0 MB    | : 100% 1.0/1 [00:00<00:00,  1.81it/s]\n",
            "libnetcdf-4.7.4      | 1.3 MB    | : 100% 1.0/1 [00:00<00:00,  4.49it/s]\n",
            "pyparsing-2.4.7      | 60 KB     | : 100% 1.0/1 [00:00<00:00, 27.19it/s]\n",
            "py-xgboost-1.0.2dev. | 100 KB    | : 100% 1.0/1 [00:00<00:00,  8.69it/s]\n",
            "libevent-2.1.10      | 1.1 MB    | : 100% 1.0/1 [00:00<00:00,  3.78it/s]\n",
            "bokeh-2.2.3          | 7.0 MB    | : 100% 1.0/1 [00:01<00:00,  1.58s/it]\n",
            "grpc-cpp-1.23.0      | 4.5 MB    | : 100% 1.0/1 [00:00<00:00,  1.09it/s]\n",
            "decorator-4.4.2      | 11 KB     | : 100% 1.0/1 [00:00<00:00, 23.80it/s]\n",
            "jinja2-2.11.2        | 93 KB     | : 100% 1.0/1 [00:00<00:00, 22.94it/s]\n",
            "oauthlib-3.0.1       | 82 KB     | : 100% 1.0/1 [00:00<00:00, 24.54it/s]\n",
            "blinker-1.4          | 13 KB     | : 100% 1.0/1 [00:00<00:00, 29.46it/s]\n",
            "locket-0.2.0         | 6 KB      | : 100% 1.0/1 [00:00<00:00, 37.56it/s]\n",
            "cloudpickle-1.6.0    | 22 KB     | : 100% 1.0/1 [00:00<00:00, 36.18it/s]\n",
            "pcre-8.44            | 261 KB    | : 100% 1.0/1 [00:00<00:00, 14.56it/s]\n",
            "pynvml-8.0.4         | 31 KB     | : 100% 1.0/1 [00:00<00:00, 30.35it/s]\n",
            "libcudf-0.13.0       | 135.7 MB  | : 100% 1.0/1 [00:29<00:00, 29.44s/it]               \n",
            "brotli-1.0.9         | 395 KB    | : 100% 1.0/1 [00:00<00:00, 13.02it/s]\n",
            "libev-4.33           | 104 KB    | : 100% 1.0/1 [00:00<00:00, 28.26it/s]\n",
            "lz4-c-1.8.3          | 187 KB    | : 100% 1.0/1 [00:00<00:00, 17.80it/s]\n",
            "cfitsio-3.470        | 1.3 MB    | : 100% 1.0/1 [00:00<00:00,  4.35it/s]\n",
            "packaging-20.8       | 34 KB     | : 100% 1.0/1 [00:00<00:00, 32.41it/s]\n",
            "cudf-0.13.0          | 32.6 MB   | : 100% 1.0/1 [00:05<00:00,  5.02s/it] \n",
            "contextvars-2.4      | 11 KB     | : 100% 1.0/1 [00:00<00:00, 43.42it/s]\n",
            "lcms2-2.11           | 434 KB    | : 100% 1.0/1 [00:00<00:00, 11.22it/s]\n",
            "fsspec-0.6.3         | 48 KB     | : 100% 1.0/1 [00:00<00:00, 24.52it/s]\n",
            "python-3.6.12        | 38.4 MB   | : 100% 1.0/1 [00:05<00:00,  5.03s/it]              \n",
            "heapdict-1.0.1       | 7 KB      | : 100% 1.0/1 [00:00<00:00, 38.32it/s]\n",
            "typing_extensions-3. | 25 KB     | : 100% 1.0/1 [00:00<00:00, 37.98it/s]\n",
            "libcuml-0.13.0       | 52.4 MB   | : 100% 1.0/1 [00:09<00:00,  9.89s/it] \n",
            "boost-cpp-1.70.0     | 21.1 MB   | : 100% 1.0/1 [00:05<00:00,  5.95s/it]\n",
            "openjpeg-2.3.1       | 395 KB    | : 100% 1.0/1 [00:00<00:00,  8.90it/s]\n",
            "giflib-5.2.1         | 77 KB     | : 100% 1.0/1 [00:00<00:00, 23.99it/s]\n",
            "libcurl-7.71.1       | 312 KB    | : 100% 1.0/1 [00:00<00:00, 13.71it/s]\n",
            "toolz-0.11.1         | 46 KB     | : 100% 1.0/1 [00:00<00:00, 24.62it/s]\n",
            "zict-2.0.0           | 10 KB     | : 100% 1.0/1 [00:00<00:00, 32.75it/s]\n",
            "Preparing transaction: - \b\b\\ \b\b| \b\b/ \b\b- \b\b\\ \b\b| \b\b/ \b\b- \b\b\\ \b\b| \b\b/ \b\b- \b\b\\ \b\b| \b\b/ \b\b- \b\b\\ \b\bdone\n",
            "Verifying transaction: / \b\b- \b\b\\ \b\b| \b\b/ \b\b- \b\b\\ \b\b| \b\b/ \b\b- \b\b\\ \b\b| \b\b/ \b\b- \b\b\\ \b\b| \b\b/ \b\b- \b\b\\ \b\b| \b\b/ \b\b- \b\b\\ \b\b| \b\b/ \b\b- \b\b\\ \b\b| \b\b/ \b\b- \b\b\\ \b\b| \b\b/ \b\b- \b\b\\ \b\b| \b\b/ \b\b- \b\b\\ \b\b| \b\b/ \b\b- \b\b\\ \b\b| \b\b/ \b\b- \b\b\\ \b\b| \b\b/ \b\b- \b\b\\ \b\b| \b\b/ \b\b- \b\b\\ \b\b| \b\b/ \b\b- \b\b\\ \b\b| \b\b/ \b\b- \b\b\\ \b\b| \b\b/ \b\b- \b\b\\ \b\b| \b\b/ \b\b- \b\b\\ \b\b| \b\b/ \b\b- \b\b\\ \b\b| \b\b/ \b\b- \b\b\\ \b\b| \b\b/ \b\b- \b\b\\ \b\b| \b\b/ \b\b- \b\b\\ \b\b| \b\b/ \b\b- \b\b\\ \b\b| \b\b/ \b\b- \b\b\\ \b\b| \b\b/ \b\b- \b\b\\ \b\b| \b\b/ \b\b- \b\b\\ \b\b| \b\b/ \b\b- \b\b\\ \b\b| \b\b/ \b\b- \b\b\\ \b\b| \b\b/ \b\b- \b\b\\ \b\b| \b\b/ \b\b- \b\b\\ \b\b| \b\b/ \b\b- \b\b\\ \b\b| \b\b/ \b\b- \b\b\\ \b\b| \b\b/ \b\b- \b\b\\ \b\b| \b\b/ \b\b- \b\b\\ \b\b| \b\b/ \b\b- \b\b\\ \b\b| \b\b/ \b\b- \b\b\\ \b\b| \b\b/ \b\b- \b\b\\ \b\b| \b\b/ \b\b- \b\b\\ \b\b| \b\b/ \b\b- \b\b\\ \b\b| \b\b/ \b\b- \b\b\\ \b\b| \b\b/ \b\b- \b\b\\ \b\b| \b\b/ \b\b- \b\b\\ \b\b| \b\b/ \b\b- \b\b\\ \b\b| \b\b/ \b\b- \b\b\\ \b\b| \b\b/ \b\b- \b\b\\ \b\b| \b\b/ \b\b- \b\b\\ \b\b| \b\b/ \b\b- \b\b\\ \b\b| \b\b/ \b\b- \b\b\\ \b\b| \b\b/ \b\b- \b\b\\ \b\b| \b\b/ \b\b- \b\b\\ \b\b| \b\b/ \b\b- \b\b\\ \b\b| \b\b/ \b\b- \b\b\\ \b\b| \b\b/ \b\b- \b\b\\ \b\b| \b\b/ \b\b- \b\b\\ \b\b| \b\b/ \b\b- \b\b\\ \b\b| \b\b/ \b\b- \b\b\\ \b\b| \b\b/ \b\b- \b\b\\ \b\b| \b\b/ \b\b- \b\b\\ \b\b| \b\b/ \b\b- \b\b\\ \b\b| \b\b/ \b\b- \b\b\\ \b\b| \b\b/ \b\b- \b\b\\ \b\b| \b\b/ \b\b- \b\b\\ \b\b| \b\b/ \b\b- \b\b\\ \b\b| \b\b/ \b\b- \b\b\\ \b\b| \b\b/ \b\b- \b\b\\ \b\b| \b\b/ \b\b- \b\b\\ \b\b| \b\b/ \b\b- \b\b\\ \b\b| \b\b/ \b\b- \b\b\\ \b\b| \b\b/ \b\b- \b\b\\ \b\b| \b\b/ \b\b- \b\b\\ \b\b| \b\b/ \b\b- \b\b\\ \b\b| \b\b/ \b\b- \b\b\\ \b\b| \b\b/ \b\b- \b\b\\ \b\b| \b\b/ \b\b- \b\b\\ \b\b| \b\b/ \b\b- \b\b\\ \b\b| \b\b/ \b\b- \b\b\\ \b\b| \b\b/ \b\b- \b\b\\ \b\b| \b\b/ \b\b- \b\b\\ \b\b| \b\b/ \b\b- \b\b\\ \b\b| \b\b/ \b\b- \b\b\\ \b\b| \b\b/ \b\b- \b\b\\ \b\b| \b\b/ \b\b- \b\b\\ \b\b| \b\b/ \b\b- \b\b\\ \b\b| \b\b/ \b\b- \b\b\\ \b\b| \b\b/ \b\b- \b\b\\ \b\b| \b\b/ \b\b- \b\b\\ \b\b| \b\b/ \b\b- \b\b\\ \b\b| \b\b/ \b\b- \b\b\\ \b\b| \b\b/ \b\b- \b\b\\ \b\b| \b\b/ \b\b- \b\b\\ \b\b| \b\b/ \b\b- \b\b\\ \b\b| \b\b/ \b\b- \b\b\\ \b\b| \b\b/ \b\b- \b\b\\ \b\b| \b\b/ \b\b- \b\b\\ \b\b| \b\b/ \b\b- \b\b\\ \b\b| \b\b/ \b\b- \b\b\\ \b\b| \b\b/ \b\b- \b\b\\ \b\b| \b\b/ \b\b- \b\b\\ \b\b| \b\b/ \b\b- \b\b\\ \b\b| \b\b/ \b\b- \b\b\\ \b\b| \b\b/ \b\b- \b\b\\ \b\b| \b\b/ \b\b- \b\b\\ \b\b| \b\b/ \b\b- \b\b\\ \b\b| \b\b/ \b\b- \b\b\\ \b\b| \b\b/ \b\b- \b\b\\ \b\b| \b\b/ \b\b- \b\b\\ \b\b| \b\b/ \b\b- \b\b\\ \b\b| \b\b/ \b\b- \b\b\\ \b\b| \b\b/ \b\b- \b\b\\ \b\b| \b\b/ \b\b- \b\b\\ \b\b| \b\b/ \b\b- \b\b\\ \b\b| \b\b/ \b\b- \b\b\\ \b\b| \b\b/ \b\b- \b\b\\ \b\b| \b\b/ \b\b- \b\b\\ \b\b| \b\b/ \b\b- \b\b\\ \b\b| \b\b/ \b\b- \b\b\\ \b\b| \b\b/ \b\b- \b\b\\ \b\b| \b\b/ \b\b- \b\b\\ \b\b| \b\b/ \b\b- \b\b\\ \b\b| \b\b/ \b\b- \b\b\\ \b\b| \b\b/ \b\b- \b\b\\ \b\b| \b\b/ \b\b- \b\b\\ \b\b| \b\b/ \b\b- \b\b\\ \b\b| \b\b/ \b\b- \b\b\\ \b\b| \b\b/ \b\b- \b\b\\ \b\b| \b\b/ \b\b- \b\b\\ \b\b| \b\b/ \b\b- \b\b\\ \b\b| \b\b/ \b\b- \b\b\\ \b\b| \b\bdone\n",
            "Executing transaction: - \b\b\\ \b\b| \b\b/ \b\b- \b\b\\ \b\b| \b\b/ \b\b- \b\b\\ \b\b| \b\b/ \b\b- \b\b\\ \b\b| \b\b/ \b\b- \b\b\\ \b\b| \b\b/ \b\b- \b\b\\ \b\b| \b\b/ \b\b- \b\b\\ \b\b| \b\b/ \b\b- \b\b\\ \b\b| \b\b/ \b\b- \b\b\\ \b\b| \b\b/ \b\b- \b\b\\ \b\b| \b\b/ \b\b- \b\b\\ \b\b| \b\b/ \b\b- \b\b\\ \b\b| \b\b/ \b\b- \b\b\\ \b\b| \b\b/ \b\b- \b\b\\ \b\b| \b\b/ \b\b- \b\b\\ \b\b| \b\b/ \b\b- \b\b\\ \b\b| \b\b/ \b\bdone\n",
            "Copying shared object files to /usr/lib\n",
            "Copying RAPIDS compatible xgboost\n",
            "\n",
            "************************************************\n",
            "Your Google Colab instance has RAPIDS installed!\n",
            "************************************************\n",
            "***********************************************************************\n",
            "Let us check on those pyarrow and cffi versions...\n",
            "***********************************************************************\n",
            "\n",
            "unloaded pyarrow 0.14.1\n",
            "unloaded pyarrow 0.14.1\n",
            "unloaded pyarrow 0.14.1\n",
            "unloaded pyarrow 0.14.1\n",
            "unloaded pyarrow 0.14.1\n",
            "unloaded pyarrow 0.14.1\n",
            "unloaded pyarrow 0.14.1\n",
            "unloaded pyarrow 0.14.1\n",
            "unloaded pyarrow 0.14.1\n",
            "unloaded pyarrow 0.14.1\n",
            "unloaded pyarrow 0.14.1\n",
            "loaded pyarrow 0.15.0\n",
            "You're now running pyarrow 0.15.0 and are good to go!\n",
            "unloaded cffi 1.14.4\n",
            "loaded cffi 1.14.4\n"
          ],
          "name": "stdout"
        }
      ]
    },
    {
      "cell_type": "code",
      "metadata": {
        "id": "yV14m5mADr8U"
      },
      "source": [
        "import time"
      ],
      "execution_count": 18,
      "outputs": []
    },
    {
      "cell_type": "code",
      "metadata": {
        "colab": {
          "base_uri": "https://localhost:8080/"
        },
        "id": "u84ac7NHYnXe",
        "outputId": "569a83d2-2b9d-4708-fbd1-61c771464904"
      },
      "source": [
        "import cudf      #Hardware accelerator: GPU\r\n",
        "start=time.time()\r\n",
        "df=cudf.read_csv(link)\r\n",
        "end=time.time()\r\n",
        "print(end-start)"
      ],
      "execution_count": 31,
      "outputs": [
        {
          "output_type": "stream",
          "text": [
            "1.8249452114105225\n"
          ],
          "name": "stdout"
        }
      ]
    },
    {
      "cell_type": "code",
      "metadata": {
        "colab": {
          "base_uri": "https://localhost:8080/",
          "height": 246
        },
        "id": "DJkfm_5dY3wi",
        "outputId": "c02b4191-9e74-470d-cdd8-b00d40686222"
      },
      "source": [
        "df.head()"
      ],
      "execution_count": 20,
      "outputs": [
        {
          "output_type": "execute_result",
          "data": {
            "text/html": [
              "<div>\n",
              "<style scoped>\n",
              "    .dataframe tbody tr th:only-of-type {\n",
              "        vertical-align: middle;\n",
              "    }\n",
              "\n",
              "    .dataframe tbody tr th {\n",
              "        vertical-align: top;\n",
              "    }\n",
              "\n",
              "    .dataframe thead th {\n",
              "        text-align: right;\n",
              "    }\n",
              "</style>\n",
              "<table border=\"1\" class=\"dataframe\">\n",
              "  <thead>\n",
              "    <tr style=\"text-align: right;\">\n",
              "      <th></th>\n",
              "      <th>Region</th>\n",
              "      <th>Country</th>\n",
              "      <th>Item Type</th>\n",
              "      <th>Sales Channel</th>\n",
              "      <th>Order Priority</th>\n",
              "      <th>Order Date</th>\n",
              "      <th>Order ID</th>\n",
              "      <th>Ship Date</th>\n",
              "      <th>Units Sold</th>\n",
              "      <th>Unit Price</th>\n",
              "      <th>Unit Cost</th>\n",
              "      <th>Total Revenue</th>\n",
              "      <th>Total Cost</th>\n",
              "      <th>Total Profit</th>\n",
              "    </tr>\n",
              "  </thead>\n",
              "  <tbody>\n",
              "    <tr>\n",
              "      <th>0</th>\n",
              "      <td>Australia and Oceania</td>\n",
              "      <td>Palau</td>\n",
              "      <td>Office Supplies</td>\n",
              "      <td>Online</td>\n",
              "      <td>H</td>\n",
              "      <td>3/6/2016</td>\n",
              "      <td>517073523</td>\n",
              "      <td>3/26/2016</td>\n",
              "      <td>2401</td>\n",
              "      <td>651.21</td>\n",
              "      <td>524.96</td>\n",
              "      <td>1563555.21</td>\n",
              "      <td>1260428.96</td>\n",
              "      <td>303126.25</td>\n",
              "    </tr>\n",
              "    <tr>\n",
              "      <th>1</th>\n",
              "      <td>Europe</td>\n",
              "      <td>Poland</td>\n",
              "      <td>Beverages</td>\n",
              "      <td>Online</td>\n",
              "      <td>L</td>\n",
              "      <td>4/18/2010</td>\n",
              "      <td>380507028</td>\n",
              "      <td>5/26/2010</td>\n",
              "      <td>9340</td>\n",
              "      <td>47.45</td>\n",
              "      <td>31.79</td>\n",
              "      <td>443183.00</td>\n",
              "      <td>296918.60</td>\n",
              "      <td>146264.40</td>\n",
              "    </tr>\n",
              "    <tr>\n",
              "      <th>2</th>\n",
              "      <td>North America</td>\n",
              "      <td>Canada</td>\n",
              "      <td>Cereal</td>\n",
              "      <td>Online</td>\n",
              "      <td>M</td>\n",
              "      <td>1/8/2015</td>\n",
              "      <td>504055583</td>\n",
              "      <td>1/31/2015</td>\n",
              "      <td>103</td>\n",
              "      <td>205.70</td>\n",
              "      <td>117.11</td>\n",
              "      <td>21187.10</td>\n",
              "      <td>12062.33</td>\n",
              "      <td>9124.77</td>\n",
              "    </tr>\n",
              "    <tr>\n",
              "      <th>3</th>\n",
              "      <td>Europe</td>\n",
              "      <td>Belarus</td>\n",
              "      <td>Snacks</td>\n",
              "      <td>Online</td>\n",
              "      <td>C</td>\n",
              "      <td>1/19/2014</td>\n",
              "      <td>954955518</td>\n",
              "      <td>2/27/2014</td>\n",
              "      <td>1414</td>\n",
              "      <td>152.58</td>\n",
              "      <td>97.44</td>\n",
              "      <td>215748.12</td>\n",
              "      <td>137780.16</td>\n",
              "      <td>77967.96</td>\n",
              "    </tr>\n",
              "    <tr>\n",
              "      <th>4</th>\n",
              "      <td>Middle East and North Africa</td>\n",
              "      <td>Oman</td>\n",
              "      <td>Cereal</td>\n",
              "      <td>Offline</td>\n",
              "      <td>H</td>\n",
              "      <td>4/26/2019</td>\n",
              "      <td>970755660</td>\n",
              "      <td>6/2/2019</td>\n",
              "      <td>7027</td>\n",
              "      <td>205.70</td>\n",
              "      <td>117.11</td>\n",
              "      <td>1445453.90</td>\n",
              "      <td>822931.97</td>\n",
              "      <td>622521.93</td>\n",
              "    </tr>\n",
              "  </tbody>\n",
              "</table>\n",
              "</div>"
            ],
            "text/plain": [
              "                         Region  Country  ...  Total Cost Total Profit\n",
              "0         Australia and Oceania    Palau  ...  1260428.96    303126.25\n",
              "1                        Europe   Poland  ...   296918.60    146264.40\n",
              "2                 North America   Canada  ...    12062.33      9124.77\n",
              "3                        Europe  Belarus  ...   137780.16     77967.96\n",
              "4  Middle East and North Africa     Oman  ...   822931.97    622521.93\n",
              "\n",
              "[5 rows x 14 columns]"
            ]
          },
          "metadata": {
            "tags": []
          },
          "execution_count": 20
        }
      ]
    },
    {
      "cell_type": "code",
      "metadata": {
        "colab": {
          "base_uri": "https://localhost:8080/"
        },
        "id": "0AknZP-LY8DZ",
        "outputId": "a8f88324-83f7-4132-c1c0-b8f9f85d01a6"
      },
      "source": [
        "import dask_cudf\r\n",
        "start=time.time()\r\n",
        "df=dask_cudf.read_csv(link)\r\n",
        "end=time.time()\r\n",
        "print(end-start)"
      ],
      "execution_count": 21,
      "outputs": [
        {
          "output_type": "stream",
          "text": [
            "0.09330940246582031\n"
          ],
          "name": "stdout"
        }
      ]
    },
    {
      "cell_type": "code",
      "metadata": {
        "colab": {
          "base_uri": "https://localhost:8080/"
        },
        "id": "UeR4PGlJYWId",
        "outputId": "01b6042c-37ec-48a1-fdd4-de57ff783e9a"
      },
      "source": [
        "!nvidia-smi"
      ],
      "execution_count": 23,
      "outputs": [
        {
          "output_type": "stream",
          "text": [
            "Sat Dec 19 04:22:30 2020       \n",
            "+-----------------------------------------------------------------------------+\n",
            "| NVIDIA-SMI 455.45.01    Driver Version: 418.67       CUDA Version: 10.1     |\n",
            "|-------------------------------+----------------------+----------------------+\n",
            "| GPU  Name        Persistence-M| Bus-Id        Disp.A | Volatile Uncorr. ECC |\n",
            "| Fan  Temp  Perf  Pwr:Usage/Cap|         Memory-Usage | GPU-Util  Compute M. |\n",
            "|                               |                      |               MIG M. |\n",
            "|===============================+======================+======================|\n",
            "|   0  Tesla T4            Off  | 00000000:00:04.0 Off |                    0 |\n",
            "| N/A   45C    P0    27W /  70W |   1143MiB / 15079MiB |      0%      Default |\n",
            "|                               |                      |                 ERR! |\n",
            "+-------------------------------+----------------------+----------------------+\n",
            "                                                                               \n",
            "+-----------------------------------------------------------------------------+\n",
            "| Processes:                                                                  |\n",
            "|  GPU   GI   CI        PID   Type   Process name                  GPU Memory |\n",
            "|        ID   ID                                                   Usage      |\n",
            "|=============================================================================|\n",
            "|  No running processes found                                                 |\n",
            "+-----------------------------------------------------------------------------+\n"
          ],
          "name": "stdout"
        }
      ]
    },
    {
      "cell_type": "code",
      "metadata": {
        "colab": {
          "base_uri": "https://localhost:8080/"
        },
        "id": "Sg1FUaOqYbeB",
        "outputId": "e95a0735-5d85-4086-e087-5c695f700b29"
      },
      "source": [
        "#no.of sockets i.e available slots for physical processors\r\n",
        "!lscpu | grep 'Socket(s):'"
      ],
      "execution_count": 24,
      "outputs": [
        {
          "output_type": "stream",
          "text": [
            "Socket(s):           1\n"
          ],
          "name": "stdout"
        }
      ]
    },
    {
      "cell_type": "code",
      "metadata": {
        "colab": {
          "base_uri": "https://localhost:8080/"
        },
        "id": "G9OrGMG-YewQ",
        "outputId": "97836ec7-768d-433d-828c-9d55ee4ce3a9"
      },
      "source": [
        "!lscpu | grep 'Core(s) per socket:'"
      ],
      "execution_count": 25,
      "outputs": [
        {
          "output_type": "stream",
          "text": [
            "Core(s) per socket:  1\n"
          ],
          "name": "stdout"
        }
      ]
    },
    {
      "cell_type": "code",
      "metadata": {
        "colab": {
          "base_uri": "https://localhost:8080/"
        },
        "id": "GW0neIaJYhev",
        "outputId": "0d6e75fe-85a4-4572-9b01-e3cb6d1d1a94"
      },
      "source": [
        "!lscpu | grep 'Thread(s) per core'\r\n",
        " "
      ],
      "execution_count": 26,
      "outputs": [
        {
          "output_type": "stream",
          "text": [
            "Thread(s) per core:  2\n"
          ],
          "name": "stdout"
        }
      ]
    },
    {
      "cell_type": "code",
      "metadata": {
        "colab": {
          "base_uri": "https://localhost:8080/"
        },
        "id": "7XifuqMJYkOh",
        "outputId": "6a5bddcc-0b8f-4b68-ff24-2cfdef35283a"
      },
      "source": [
        "!lscpu | grep \"L3 cache\""
      ],
      "execution_count": 27,
      "outputs": [
        {
          "output_type": "stream",
          "text": [
            "L3 cache:            56320K\n"
          ],
          "name": "stdout"
        }
      ]
    },
    {
      "cell_type": "code",
      "metadata": {
        "colab": {
          "base_uri": "https://localhost:8080/"
        },
        "id": "jCSUl2f8YnLB",
        "outputId": "d7e32cbe-09fe-4611-cf70-ccb96765f03b"
      },
      "source": [
        "!lscpu | grep \"MHz\""
      ],
      "execution_count": 28,
      "outputs": [
        {
          "output_type": "stream",
          "text": [
            "CPU MHz:             2199.998\n"
          ],
          "name": "stdout"
        }
      ]
    },
    {
      "cell_type": "code",
      "metadata": {
        "colab": {
          "base_uri": "https://localhost:8080/"
        },
        "id": "v8bM-SzqYpte",
        "outputId": "40e17ca0-bbcd-46c3-89bc-4fd2f892d8d6"
      },
      "source": [
        "!free -h --si | awk  '/Mem:/{print $2}'"
      ],
      "execution_count": 29,
      "outputs": [
        {
          "output_type": "stream",
          "text": [
            "13G\n"
          ],
          "name": "stdout"
        }
      ]
    },
    {
      "cell_type": "code",
      "metadata": {
        "colab": {
          "base_uri": "https://localhost:8080/"
        },
        "id": "gARkbqzgYtAU",
        "outputId": "2d111ce9-707f-4bdc-bcca-d54062d42815"
      },
      "source": [
        "!df -h / | awk '{print $4}'"
      ],
      "execution_count": 30,
      "outputs": [
        {
          "output_type": "stream",
          "text": [
            "Avail\n",
            "26G\n"
          ],
          "name": "stdout"
        }
      ]
    },
    {
      "cell_type": "markdown",
      "metadata": {
        "id": "Ylsz249vrmKa"
      },
      "source": [
        "\n",
        "\n",
        "\n",
        "\n",
        "## Time analysis on GPU\n",
        "Pandas    = 9.28 sec.\n",
        "\n",
        "Dask      = 9.24 sec.\n",
        "\n",
        "Datatable = 4.364 sec.\n",
        "\n",
        "Modin     = 9.73 sec.\n",
        "\n",
        "Dask_cudf = 0.0644 sec. \n",
        "\n",
        "CUDF = 1.82 sec.\n",
        "\n",
        "Modin > pandas > Dask > Datatable > CUDF > Dask_cudf"
      ]
    },
    {
      "cell_type": "markdown",
      "metadata": {
        "id": "7L3iP7iQPKHL"
      },
      "source": [
        "1. The Datatable toolkit resembeles pandas very closely but is more focused on speed.\n",
        "\n",
        "2. cuDF and dask_cudf is a special library designed to work on GPU\n",
        "\n",
        "3. It is seen Pandas performs better than Modin on GPU."
      ]
    },
    {
      "cell_type": "markdown",
      "metadata": {
        "id": "3nkVb0G5w6B6"
      },
      "source": [
        "![Untitled presentation (1).jpg](data:image/jpeg;base64,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)"
      ]
    },
    {
      "cell_type": "markdown",
      "metadata": {
        "id": "15ZxDD7jf2ZV"
      },
      "source": [
        "# Conclusion"
      ]
    },
    {
      "cell_type": "markdown",
      "metadata": {
        "id": "pgrmq7v0gG9g"
      },
      "source": [
        "cuDf or dask_cudf should be preferred if GPU is available, and we have to choose between these two prefer dask_cudf for gb's of data"
      ]
    },
    {
      "cell_type": "code",
      "metadata": {
        "id": "eHVWdfIyKbDU"
      },
      "source": [
        "\r\n",
        "\r\n"
      ],
      "execution_count": null,
      "outputs": []
    }
  ]
}